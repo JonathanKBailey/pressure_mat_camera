{
 "cells": [
  {
   "cell_type": "code",
   "execution_count": 2,
   "id": "09e0b73e-603f-42dc-9efd-de73855d38cd",
   "metadata": {},
   "outputs": [],
   "source": [
    "import os"
   ]
  },
  {
   "cell_type": "markdown",
   "id": "dcc3f809-8e8d-45cf-b4f9-74768ac59d5a",
   "metadata": {},
   "source": [
    "```\n",
    "camera_data\n",
    "   | fall\n",
    "       irf {subject1, subject5} {01 - 100 }\n",
    "   | adl\n",
    "       irald {subject} {01 - 40}\n",
    "```"
   ]
  },
  {
   "cell_type": "code",
   "execution_count": 3,
   "id": "c1ff6534-3b7a-4081-b30f-07db6322bb14",
   "metadata": {},
   "outputs": [],
   "source": [
    "os.mkdir('data\\camera_data')\n",
    "os.mkdir('data\\mat_data')"
   ]
  },
  {
   "cell_type": "code",
   "execution_count": 8,
   "id": "bdcdbd1c-640a-4e3e-89a9-9b753e9a405c",
   "metadata": {},
   "outputs": [],
   "source": [
    "for device in ['camera', 'mat']:\n",
    "    for activity in ['fall', 'adl']:\n",
    "        for subject in range(1, 9):\n",
    "            if activity == 'fall':\n",
    "                for act_num in range(1, 101):\n",
    "                    os.makedirs(os.path.join('data', f'{device}_data', activity, f'subject{subject}', f'fall{act_num:03}'))\n",
    "            else:\n",
    "                for act_num in range(1, 50):\n",
    "                    os.makedirs(os.path.join('data', f'{device}_data', activity, f'subject{subject}', f'adl{act_num:03}'))\n",
    "                    "
   ]
  },
  {
   "cell_type": "code",
   "execution_count": 10,
   "id": "2f5d24f1-3167-4502-b168-408cfb4d9c66",
   "metadata": {},
   "outputs": [],
   "source": [
    "for device in ['camera', 'mat']:\n",
    "    for activity in ['tests']:\n",
    "        for subject in range(1, 2):\n",
    "            if activity == 'fall':\n",
    "                for act_num in range(1, 5):\n",
    "                    os.makedirs(os.path.join('data', f'{device}_data', activity, f'subject{subject}', f'fall{act_num:03}'))\n",
    "            else:\n",
    "                for act_num in range(1, 5):\n",
    "                    os.makedirs(os.path.join('data', f'{device}_data', activity, f'subject{subject}', f'adl{act_num:03}'))\n",
    "                    "
   ]
  },
  {
   "cell_type": "code",
   "execution_count": null,
   "id": "9cb80e33-ef34-42f3-afc9-0cc5d74523d6",
   "metadata": {},
   "outputs": [],
   "source": []
  }
 ],
 "metadata": {
  "kernelspec": {
   "display_name": "Python 3 (ipykernel)",
   "language": "python",
   "name": "python3"
  },
  "language_info": {
   "codemirror_mode": {
    "name": "ipython",
    "version": 3
   },
   "file_extension": ".py",
   "mimetype": "text/x-python",
   "name": "python",
   "nbconvert_exporter": "python",
   "pygments_lexer": "ipython3",
   "version": "3.11.7"
  }
 },
 "nbformat": 4,
 "nbformat_minor": 5
}
