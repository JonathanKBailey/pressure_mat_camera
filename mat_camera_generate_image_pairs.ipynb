{
 "cells": [
  {
   "cell_type": "markdown",
   "id": "ee9a7dc0-05cf-4951-89d7-507599ac9f89",
   "metadata": {},
   "source": [
    "# Generate pairs of images for mat and camera frames."
   ]
  },
  {
   "cell_type": "code",
   "execution_count": 3,
   "id": "86173c18-8c2d-4d32-bb59-8b3734e1470a",
   "metadata": {},
   "outputs": [],
   "source": [
    "import os\n",
    "import datetime\n",
    "from zoneinfo import ZoneInfo\n",
    "import pandas as pd\n",
    "import numpy as np\n",
    "import ffmpeg\n",
    "import PIL\n",
    "from PIL import Image\n",
    "from PIL import ImageOps\n",
    "# from PIL import Resampling\n",
    "from matplotlib import cm"
   ]
  },
  {
   "cell_type": "markdown",
   "id": "493dab1a-526f-4354-a6e0-fb2aaa9cc996",
   "metadata": {},
   "source": [
    "Magic number for image alignment."
   ]
  },
  {
   "cell_type": "code",
   "execution_count": 4,
   "id": "2190876b-7feb-463f-9188-50aee9e9b59a",
   "metadata": {},
   "outputs": [],
   "source": [
    "camera_image_width, camera_image_height = 80, 60\n",
    "# camera_image_rescale = 1.5\n",
    "\n",
    "mat_image_width, mat_image_height = 27, 64\n",
    "# camera_min_value, camera_max_value = 7886.0, 8171.0"
   ]
  },
  {
   "cell_type": "markdown",
   "id": "32d32ad9-9a1e-4495-a81d-088892713220",
   "metadata": {},
   "source": [
    "Where to find the files we're after for this data fusion, and where to write the results."
   ]
  },
  {
   "cell_type": "code",
   "execution_count": 5,
   "id": "2858c6aa-ca91-4930-861c-b9e1b844bec0",
   "metadata": {},
   "outputs": [],
   "source": [
    "camera_path = os.path.join('data', 'camera_data') # Infra Red camera data'\n",
    "mat_path = os.path.join('data', 'mat_data') # ..\\Pressure Mat Data'\n",
    "\n",
    "# centre_camera_path = os.path.join(camera_path, 'tests', 'subject1', 'Centre 1')\n",
    "# centre_mat_path = os.path.join(mat_path, 'tests', 'subject1', 'Centre 1')"
   ]
  },
  {
   "cell_type": "code",
   "execution_count": 6,
   "id": "9828bdbd-8a62-4bac-9227-93d5199c84cb",
   "metadata": {},
   "outputs": [],
   "source": [
    "this_camera_path = os.path.join(camera_path, 'Lyne', 'ADL IR', 'LIRADL2')\n",
    "this_mat_path = os.path.join(mat_path, 'Lyne', 'ADL Mat', 'LMATADL2')\n",
    "\n",
    "mat_csv_file = 'LA2.csv'\n",
    "\n",
    "outpath = os.path.join('data', 'paired', 'lald2')\n",
    "\n",
    "# camera_frame_number = 2\n",
    "# mat_frame_number = 700"
   ]
  },
  {
   "cell_type": "code",
   "execution_count": 7,
   "id": "4a4196ea-0c98-4801-a565-99fff851f725",
   "metadata": {},
   "outputs": [],
   "source": [
    "this_camera_path = os.path.join(camera_path, 'Pablo', 'Falls IR', 'PDRIRF33')\n",
    "this_mat_path = os.path.join(mat_path, 'Pablo', 'Falls PM', 'PDRPMF06')\n",
    "\n",
    "mat_csv_file = '6p.csv'\n",
    "\n",
    "outpath = os.path.join('data', 'paired', 'p_fall_06')\n",
    "\n",
    "# camera_frame_number = 2\n",
    "# mat_frame_number = 700"
   ]
  },
  {
   "cell_type": "markdown",
   "id": "6bfb4181-099a-425a-b62a-249a614bad99",
   "metadata": {},
   "source": [
    "Read the timestamp of a camera file."
   ]
  },
  {
   "cell_type": "code",
   "execution_count": 8,
   "id": "217283ce-72af-4063-aec0-fad8d2f26b9a",
   "metadata": {},
   "outputs": [],
   "source": [
    "def camera_date_reader(d):\n",
    "    try:\n",
    "        return datetime.datetime.strptime(d, 'frame_%Y-%m-%dT%H_%M_%S.%f.csv')\n",
    "    except ValueError:\n",
    "        return datetime.datetime.strptime(d, 'frame_%Y-%m-%dT%H_%M_%S.csv')"
   ]
  },
  {
   "cell_type": "markdown",
   "id": "0dab83e4-94a5-41fc-8989-f9f864ce5a11",
   "metadata": {},
   "source": [
    "Read the timestamp in a mat file."
   ]
  },
  {
   "cell_type": "code",
   "execution_count": 32,
   "id": "9da671eb-98be-4bab-a91a-a7b93f756dfa",
   "metadata": {},
   "outputs": [],
   "source": [
    "def mat_date_reader(d):\n",
    "    return datetime.datetime.fromisoformat(d)\n",
    "    # try:\n",
    "    #     return datetime.datetime.strptime(d, '%Y-%m-%dT%H:%M:%S.%f%z')\n",
    "    # except ValueError:\n",
    "    #     return datetime.datetime.strptime(d, '%Y-%m-%dT%H:%M:%S%z')"
   ]
  },
  {
   "cell_type": "markdown",
   "id": "b18120af-0da3-4b92-b9af-d4908e40d6a9",
   "metadata": {},
   "source": [
    "Read all the camera files, store them in order (this follows the timestamps)"
   ]
  },
  {
   "cell_type": "code",
   "execution_count": 10,
   "id": "6226bed9-5e81-47b9-a354-3037f16a06e8",
   "metadata": {
    "scrolled": true
   },
   "outputs": [],
   "source": [
    "def find_camera_files(path):\n",
    "    camera_files = {}\n",
    "    for f in os.listdir(path):\n",
    "        fp = os.path.join(path, f)\n",
    "        if os.path.isfile(fp) and 'ContDrc' not in f:\n",
    "            tm = camera_date_reader(f).replace(tzinfo=ZoneInfo('Europe/London'))\n",
    "            camera_files[tm] = fp\n",
    "            # print(f, tm)\n",
    "    return {t: camera_files[t] for t in sorted(camera_files)}"
   ]
  },
  {
   "cell_type": "code",
   "execution_count": 11,
   "id": "accd1316-7e12-4d6b-b678-9552e5fa2143",
   "metadata": {
    "scrolled": true
   },
   "outputs": [],
   "source": [
    "# camera_files = find_camera_files(this_camera_path)\n",
    "# camera_files"
   ]
  },
  {
   "cell_type": "markdown",
   "id": "c21c0098-36b2-481d-a171-e09d34268255",
   "metadata": {},
   "source": [
    "Load the camera data.\n",
    "\n",
    "Open each file in turn, read it (with `loadtxt`) into a Numpy array, reshape that array into the 60×80 grid of the image, shove the array into a list.\n",
    "\n",
    "When done, use `stack` to smash the list together into one big 3d array. First index is time, second is short side, third is long side of image."
   ]
  },
  {
   "cell_type": "code",
   "execution_count": 12,
   "id": "1cf8ede0-602c-4e50-af2d-117250e1c766",
   "metadata": {},
   "outputs": [],
   "source": [
    "def load_all_camera_data(file_times):\n",
    "    camera_frames = []\n",
    "    for f in file_times:\n",
    "        arr = np.loadtxt(file_times[f], delimiter=',', usecols=list(range(80)), max_rows=60).reshape((1, 60, 80))\n",
    "        camera_frames.append(arr)\n",
    "    return np.vstack(camera_frames)"
   ]
  },
  {
   "cell_type": "code",
   "execution_count": 13,
   "id": "48e6f168-044e-4a4a-a6d4-15150effaf39",
   "metadata": {},
   "outputs": [],
   "source": [
    "# camera_frames = load_all_camera_data(camera_files)\n",
    "# camera_frames.shape"
   ]
  },
  {
   "cell_type": "markdown",
   "id": "6166cd7c-6ade-4c17-88b7-08384f9838f4",
   "metadata": {},
   "source": [
    "Normalise all the values of the camera data, so they go from 0 to 1."
   ]
  },
  {
   "cell_type": "code",
   "execution_count": 14,
   "id": "4bd3b782-3409-4bdd-800b-021657c485d1",
   "metadata": {
    "scrolled": true
   },
   "outputs": [],
   "source": [
    "# camera_min_value, camera_max_value = np.min(camera_frames), np.max(camera_frames)\n",
    "# camera_frames = (camera_frames - cmin) / (cmax - cmin)\n",
    "# camera_frames"
   ]
  },
  {
   "cell_type": "code",
   "execution_count": 15,
   "id": "b35e74c3-b147-4189-8cb7-3bfc98705939",
   "metadata": {},
   "outputs": [],
   "source": [
    "# mframe = pd.read_csv(os.path.join(this_mat_path,mat_csv_file), \n",
    "#                      converters={'Timestamp': mat_date_reader},\n",
    "#                     index_col='Frame')\n",
    "# mframe.dtypes"
   ]
  },
  {
   "cell_type": "code",
   "execution_count": 16,
   "id": "a447b149-fecb-4474-b098-96b0c71ad96c",
   "metadata": {
    "scrolled": true
   },
   "outputs": [],
   "source": [
    "# mframe"
   ]
  },
  {
   "cell_type": "markdown",
   "id": "6bb75496-37f5-44ef-9bc8-a66ab3f75347",
   "metadata": {},
   "source": [
    "Capture the mat and camera times"
   ]
  },
  {
   "cell_type": "code",
   "execution_count": 17,
   "id": "01c231e8-a6ad-4a4d-b45e-f261d6089316",
   "metadata": {
    "scrolled": true
   },
   "outputs": [],
   "source": [
    "# mat_times = [t.to_pydatetime() for t in mframe['Timestamp']]\n",
    "# mat_times"
   ]
  },
  {
   "cell_type": "code",
   "execution_count": 18,
   "id": "b53570da-a41d-4f66-a52a-20e84bac64f1",
   "metadata": {
    "scrolled": true
   },
   "outputs": [],
   "source": [
    "# camera_times = list(sorted(camera_files.keys()))\n",
    "# camera_times"
   ]
  },
  {
   "cell_type": "markdown",
   "id": "52b237fc-b039-40d6-bfb4-bf74a4329ec7",
   "metadata": {},
   "source": [
    "Sanity check: do the times cover a sensible period (on one occasion, there were a couple of camera frames that were about three days later than the others. That led to a long video being created!)"
   ]
  },
  {
   "cell_type": "code",
   "execution_count": 19,
   "id": "6bff5132-db42-4c00-886f-62e545e104ed",
   "metadata": {},
   "outputs": [],
   "source": [
    "# start_time = max(mat_times[0], camera_times[0])\n",
    "# end_time = min(mat_times[-1], camera_times[-1])\n",
    "# start_time, end_time"
   ]
  },
  {
   "cell_type": "markdown",
   "id": "bcfed9c7-11ca-41c6-995f-984af52eb5c9",
   "metadata": {},
   "source": [
    "Build the structure of the overlaid video.\n",
    "\n",
    "Go from the `start_time` to the `end_time`, in steps of `frame_delta`. At each step, find the most recent mat or camera time that's less than the `frame_time` and add it to `frame_sources`. Then advance `frame_time`.\n",
    "\n",
    "You're left with a `dict` of times of frames in the composite video. For each entry in the `dict`, you can find the `mat_time` and `camera_time` to extract the data for that frame of the composite video."
   ]
  },
  {
   "cell_type": "code",
   "execution_count": 20,
   "id": "8670c77d-d7a3-4d6d-a6fb-9b1f7791378a",
   "metadata": {
    "scrolled": true
   },
   "outputs": [],
   "source": [
    "def find_timestamp_pairs(camera_times, mat_times, start_time, end_time):\n",
    "    valid_frame_times = [t for t in camera_times if t >= start_time and t <= end_time]\n",
    "    \n",
    "    pairs = []\n",
    "    for frame_time in valid_frame_times:\n",
    "        closest_mat_frame = mat_times[0]\n",
    "        closest_delta = abs(closest_mat_frame - frame_time)\n",
    "        for t in mat_times:\n",
    "            d = abs(t - frame_time)\n",
    "            if d < closest_delta:\n",
    "                closest_delta = d\n",
    "                closest_mat_frame = t\n",
    "        pairs += [{'camera_time': frame_time, 'mat_time': closest_mat_frame}]\n",
    "    return pairs"
   ]
  },
  {
   "cell_type": "markdown",
   "id": "7cd38b33-f69e-48be-9d0c-e0497fa8fb8c",
   "metadata": {},
   "source": [
    "A couple of functions that convert a camera frame array to an image, and a mat frame array to an image."
   ]
  },
  {
   "cell_type": "code",
   "execution_count": 21,
   "id": "a3d9ab4d-150c-4153-8671-8772d4adc8d8",
   "metadata": {},
   "outputs": [],
   "source": [
    "def camera_image_for_timestamp(timestamp, camera_files, camera_min_value, camera_max_value):\n",
    "    if timestamp is None:\n",
    "        return Image.new(mode='L', size=(camera_image_width, camera_image_height), color=0)\n",
    "    else:\n",
    "        f = camera_files[timestamp]\n",
    "        arr = np.loadtxt(f, delimiter=',', usecols=list(range(80)), max_rows=60).reshape((camera_image_height, camera_image_width))\n",
    "        arr = (arr - camera_min_value) / (camera_max_value - camera_min_value)\n",
    "        arr = np.maximum(arr, 0.0)\n",
    "        arr = np.minimum(arr, 1.0)\n",
    "        im = Image.fromarray((arr * 255).astype(np.uint8), mode='L')\n",
    "        # im = im.convert(mode='L')\n",
    "        return im"
   ]
  },
  {
   "cell_type": "code",
   "execution_count": 22,
   "id": "82a1b864-96a8-41a1-a271-9e1b9a217a84",
   "metadata": {},
   "outputs": [],
   "source": [
    "def mat_image_for_timestamp(timestamp, mat_data):\n",
    "    if timestamp is None:\n",
    "        return Image.new(mode='L', size=(int(camera_image_width * camera_image_rescale), int(camera_image_height * camera_image_rescale)), color=0)\n",
    "    else:\n",
    "        mat_line = mat_data.loc[mat_data['Timestamp'] == timestamp]\n",
    "        mat_line = mat_line.drop(['Timestamp', 'Range Min (mmHg)', 'Range Max (mmHg)'], axis='columns')\n",
    "        arr = (mat_line.to_numpy().astype(np.float64) / 104).reshape(mat_image_height, mat_image_width)\n",
    "        im = Image.fromarray(np.rot90(arr * 255, 3).astype(np.uint8), mode='L')\n",
    "        im = ImageOps.flip(im)\n",
    "        return im"
   ]
  },
  {
   "cell_type": "code",
   "execution_count": 21,
   "id": "d4257300-81bd-4a27-b1e1-86c9312aaea9",
   "metadata": {},
   "outputs": [],
   "source": [
    "# p = pairs[60]\n",
    "# p"
   ]
  },
  {
   "cell_type": "code",
   "execution_count": 22,
   "id": "9320df62-4d80-4096-aae8-6c5de653c74d",
   "metadata": {},
   "outputs": [],
   "source": [
    "# camera_image_for_timestamp(p['camera_time'], camera_min_value, camera_max_value).save('sample_camera.png')"
   ]
  },
  {
   "cell_type": "code",
   "execution_count": 23,
   "id": "5a9f9f36-4cb5-4335-84bd-5ff706b40762",
   "metadata": {},
   "outputs": [],
   "source": [
    "# mat_image_for_timestamp(p['mat_time']).save('sample_mat.png')"
   ]
  },
  {
   "cell_type": "code",
   "execution_count": 24,
   "id": "f15ef3f9-f72c-491d-8c54-8376f27b0580",
   "metadata": {},
   "outputs": [],
   "source": [
    "# os.makedirs(outpath, exist_ok=True)"
   ]
  },
  {
   "cell_type": "code",
   "execution_count": 25,
   "id": "b64cb06e-ddce-4b11-af1f-eb5b924887a9",
   "metadata": {},
   "outputs": [],
   "source": [
    "# with open(os.path.join(outpath, 'index.txt'), 'w') as f:\n",
    "#     print('index,camera_time,mat_time', file=f)\n",
    "#     for i, p in enumerate(pairs):\n",
    "#         camera_image_for_timestamp(p['camera_time'], camera_min_value, camera_max_value).save(os.path.join(outpath, f'{i:03}.ir.png'))\n",
    "#         mat_image_for_timestamp(p['mat_time']).save(os.path.join(outpath, f'{i:03}.pm.png'))\n",
    "#         print(f\"{i:03},{p['camera_time'].isoformat()},{p['mat_time'].isoformat()}\", file=f)"
   ]
  },
  {
   "cell_type": "code",
   "execution_count": 26,
   "id": "6b787c73-9a78-407b-a5ff-94c1e66fffc2",
   "metadata": {},
   "outputs": [],
   "source": [
    "# p"
   ]
  },
  {
   "cell_type": "code",
   "execution_count": 23,
   "id": "1aa99d50-7a9f-4202-9688-2c712bc334be",
   "metadata": {},
   "outputs": [],
   "source": [
    "def pair_one_activity(camera_path, mat_path, mat_csv_file, out_path):\n",
    "    camera_files = find_camera_files(camera_path)\n",
    "    camera_data = load_all_camera_data(camera_files)\n",
    "    camera_min_value, camera_max_value = np.min(camera_data), np.max(camera_data)\n",
    "    camera_times = list(sorted(camera_files.keys()))\n",
    "    mat_data = pd.read_csv(os.path.join(mat_path,mat_csv_file), \n",
    "                     converters={'Timestamp': mat_date_reader},\n",
    "                    index_col='Frame')\n",
    "    mat_times = [t.to_pydatetime() for t in mat_data['Timestamp']]\n",
    "    start_time = max(mat_times[0], camera_times[0])\n",
    "    end_time = min(mat_times[-1], camera_times[-1])\n",
    "    print(start_time, end_time)\n",
    "    time_pairs = find_timestamp_pairs(camera_times, mat_times, start_time, end_time)\n",
    "    os.makedirs(out_path, exist_ok=True)\n",
    "    with open(os.path.join(out_path, 'index.txt'), 'w') as f:\n",
    "        print('index,camera_time,mat_time', file=f)\n",
    "        for i, p in enumerate(time_pairs):\n",
    "            camera_image_for_timestamp(p['camera_time'], camera_files, camera_min_value, camera_max_value).save(os.path.join(out_path, f'{i:03}.ir.png'))\n",
    "            mat_image_for_timestamp(p['mat_time'], mat_data).save(os.path.join(out_path, f'{i:03}.pm.png'))\n",
    "            print(f\"{i:03},{p['camera_time'].isoformat()},{p['mat_time'].isoformat()}\", file=f)"
   ]
  },
  {
   "cell_type": "code",
   "execution_count": 28,
   "id": "d193f416-cb70-488e-b612-9e0e6db6e2db",
   "metadata": {},
   "outputs": [
    {
     "name": "stdout",
     "output_type": "stream",
     "text": [
      "2024-07-09 10:38:29.104000+01:00 2024-07-09 10:38:35.072000+01:00\n"
     ]
    }
   ],
   "source": [
    "pair_one_activity(this_camera_path, this_mat_path, mat_csv_file, outpath)"
   ]
  },
  {
   "cell_type": "code",
   "execution_count": 42,
   "id": "4a742604-d30e-4cda-bf30-7bb2bd998531",
   "metadata": {},
   "outputs": [],
   "source": [
    "for root, dirs, files in os.walk(os.path.join('data', 'trimmed_csv')):\n",
    "    for file in files:\n",
    "        if file.endswith('.csv'):\n",
    "            if 'Fall' in root or 'fall' in root:\n",
    "                out_dir = os.path.join('data', 'mat_images', 'falls')\n",
    "            else:\n",
    "                out_dir = os.path.join('data', 'mat_images', 'adl')\n",
    "            try:\n",
    "                os.makedirs(out_dir)\n",
    "            except FileExistsError:\n",
    "                pass\n",
    "            out_file_name = root.replace(' ', '_')\n",
    "            out_file_name = out_file_name.replace('/', '_')\n",
    "            \n",
    "            # out_file = os.path.join(out_dir, out_file_name)\n",
    "\n",
    "            mat_data = pd.read_csv(os.path.join(root, file), \n",
    "                     converters={'Timestamp': mat_date_reader},\n",
    "                    index_col='Frame')\n",
    "            mat_arr = mat_data.drop(['Timestamp', 'Range Min (mmHg)', 'Range Max (mmHg)'], axis='columns').to_numpy().astype(np.float64) / 104\n",
    "\n",
    "            for i, mat_row in enumerate(mat_arr):\n",
    "                # print(out_file_name, i, np.count_nonzero(mat_row >= 0.1))\n",
    "                if np.count_nonzero(mat_row >= 0.1) >= 10:\n",
    "                    img_arr = mat_row.reshape(mat_image_height, mat_image_width)\n",
    "                    im = Image.fromarray(np.rot90(img_arr * 255, 3).astype(np.uint8), mode='L')\n",
    "                    im = ImageOps.flip(im)\n",
    "                    im.save(os.path.join(out_dir, f'{out_file_name}_{i:03}.png'))\n",
    "            # print(root, file, out_file) # uncomment this to see what files are being trimmed\n"
   ]
  },
  {
   "cell_type": "code",
   "execution_count": 38,
   "id": "a0e034d7-6646-4882-9c54-8b3ceaa64ed7",
   "metadata": {},
   "outputs": [
    {
     "data": {
      "text/plain": [
       "0"
      ]
     },
     "execution_count": 38,
     "metadata": {},
     "output_type": "execute_result"
    }
   ],
   "source": [
    "np.count_nonzero(mat_row >= 10)"
   ]
  },
  {
   "cell_type": "code",
   "execution_count": null,
   "id": "90f5b82c-d2a9-476d-8bdf-d1e69966c4c7",
   "metadata": {},
   "outputs": [],
   "source": []
  }
 ],
 "metadata": {
  "kernelspec": {
   "display_name": "Python 3 (ipykernel)",
   "language": "python",
   "name": "python3"
  },
  "language_info": {
   "codemirror_mode": {
    "name": "ipython",
    "version": 3
   },
   "file_extension": ".py",
   "mimetype": "text/x-python",
   "name": "python",
   "nbconvert_exporter": "python",
   "pygments_lexer": "ipython3",
   "version": "3.11.0rc1"
  }
 },
 "nbformat": 4,
 "nbformat_minor": 5
}
