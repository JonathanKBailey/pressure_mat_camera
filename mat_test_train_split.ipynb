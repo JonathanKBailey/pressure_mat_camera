{
 "cells": [
  {
   "cell_type": "code",
   "execution_count": 1,
   "id": "a3c23304-5289-4e24-81ad-ea8c706e8949",
   "metadata": {},
   "outputs": [],
   "source": [
    "import numpy as np\n",
    "import pandas as pd\n",
    "import os\n",
    "import glob\n",
    "import json\n",
    "import matplotlib as mpl\n",
    "import matplotlib.pyplot as plt\n",
    "%matplotlib inline\n",
    "\n",
    "# import tensorflow as tf\n",
    "\n",
    "from sklearn import tree\n",
    "from sklearn import metrics\n",
    "from sklearn.model_selection import train_test_split"
   ]
  },
  {
   "cell_type": "code",
   "execution_count": 22,
   "id": "3d744273-eab7-4d76-a6ca-941ba07c7b52",
   "metadata": {},
   "outputs": [],
   "source": [
    "for root, dirs, files in os.walk('data/trimmed_csv/'):\n",
    "    for file in files:\n",
    "        if dirs == [] and file[-3:] == 'csv':\n",
    "            f = os.path.join(root, file)\n",
    "            fr = pd.read_csv(f, index_col='Frame')\n",
    "            test_frame = fr[fr.index % 5 == 0]\n",
    "            train_frame = fr[fr.index % 5 != 0]\n",
    "            test_dir = root.replace('trimmed_csv', 'test_csv')\n",
    "            train_dir = root.replace('trimmed_csv', 'train_csv')\n",
    "            os.makedirs(test_dir, exist_ok=True)\n",
    "            os.makedirs(train_dir, exist_ok=True)\n",
    "            test_frame.to_csv(os.path.join(test_dir, file))\n",
    "            train_frame.to_csv(os.path.join(train_dir, file))"
   ]
  },
  {
   "cell_type": "code",
   "execution_count": null,
   "id": "f5015dd6-7339-4cd1-b93e-973f0af27ba5",
   "metadata": {},
   "outputs": [],
   "source": []
  }
 ],
 "metadata": {
  "kernelspec": {
   "display_name": "Python 3 (ipykernel)",
   "language": "python",
   "name": "python3"
  },
  "language_info": {
   "codemirror_mode": {
    "name": "ipython",
    "version": 3
   },
   "file_extension": ".py",
   "mimetype": "text/x-python",
   "name": "python",
   "nbconvert_exporter": "python",
   "pygments_lexer": "ipython3",
   "version": "3.10.13"
  }
 },
 "nbformat": 4,
 "nbformat_minor": 5
}
