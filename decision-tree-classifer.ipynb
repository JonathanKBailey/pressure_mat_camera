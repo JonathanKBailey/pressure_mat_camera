{
 "cells": [
  {
   "cell_type": "code",
   "execution_count": 6,
   "id": "9d50f82a",
   "metadata": {},
   "outputs": [],
   "source": [
    "import numpy as np\n",
    "import pandas as pd\n",
    "import os\n",
    "import glob\n",
    "import json\n",
    "import matplotlib as mpl\n",
    "import matplotlib.pyplot as plt\n",
    "%matplotlib inline\n",
    "\n",
    "# import tensorflow as tf\n",
    "\n",
    "from sklearn import tree\n",
    "from sklearn import metrics\n",
    "from sklearn.model_selection import train_test_split"
   ]
  },
  {
   "cell_type": "code",
   "execution_count": 2,
   "id": "a32ed473",
   "metadata": {},
   "outputs": [
    {
     "name": "stdout",
     "output_type": "stream",
     "text": [
      "adl001_mat.mp4\t       centre1_mat.mp4\t   corner4_camera.png\n",
      "adl001_mixed.mp4       centre1_mat.png\t   corner4_mat.mp4\n",
      "adl001.mp4\t       centre1.mp4\t   corner4_mat.png\n",
      "adl002_mat.mp4\t       corner1_camera.png  corner4.mp4\n",
      "adl002_mixed.mp4       corner1_mat.mp4\t   data\n",
      "adl002.mp4\t       corner1_mat.png\t   decision-tree-classifer.ipynb\n",
      "adl003_mat.mp4\t       corner1.mp4\t   LICENSE\n",
      "adl003_mixed.mp4       corner2_camera.png  make_directories.ipynb\n",
      "adl003.mp4\t       corner2_mat.mp4\t   mat_camera_align.ipynb\n",
      "adl004_mat.mp4\t       corner2_mat.png\t   mat_corners.png\n",
      "adl004_mixed.mp4       corner2.mp4\t   read_mat_camera_data.ipynb\n",
      "adl004.mp4\t       corner3_camera.png  read_timestamps.ipynb\n",
      "camera_all_points.png  corner3_mat.mp4\t   rename_as_timestamp.ipynb\n",
      "camera_rescaled.png    corner3_mat.png\t   rename_as_timestamp.py\n",
      "centre1_camera.png     corner3.mp4\t   subject1.7z\n"
     ]
    }
   ],
   "source": [
    "!ls"
   ]
  },
  {
   "cell_type": "markdown",
   "id": "f6688835",
   "metadata": {},
   "source": [
    "# Load the data, find \"signatures\"\n",
    "\n",
    "\"Signature\" is number of \"lit\" pixels, and sum of all lit pixels.\n",
    "\n",
    "Discard frames with fewer than 10 lit pixels."
   ]
  },
  {
   "cell_type": "code",
   "execution_count": 7,
   "id": "5f04d649",
   "metadata": {},
   "outputs": [],
   "source": [
    "def fall_signature(frame, path, threshold=10):\n",
    "    return pd.DataFrame({'path': path, 's': frame[frame > threshold].sum(axis=1), 'n': frame[frame > threshold].count(axis=1)})"
   ]
  },
  {
   "cell_type": "code",
   "execution_count": 8,
   "id": "f897595c-4a9c-41f8-a2c8-5440e435e051",
   "metadata": {},
   "outputs": [
    {
     "name": "stdout",
     "output_type": "stream",
     "text": [
      "unknown type data/mat_data/Blaines wife\\FALL PM\\BWIRFALL1\\1S.csv\n",
      "unknown type data/mat_data/Blaines wife\\FALL PM\\BWIRFALL10\\S10.csv\n",
      "unknown type data/mat_data/Blaines wife\\FALL PM\\BWIRFALL11\\S11.csv\n",
      "unknown type data/mat_data/Blaines wife\\FALL PM\\BWIRFALL12\\12S.csv\n",
      "unknown type data/mat_data/Blaines wife\\FALL PM\\BWIRFALL13\\13S.csv\n",
      "unknown type data/mat_data/Blaines wife\\FALL PM\\BWIRFALL14\\14S.csv\n",
      "unknown type data/mat_data/Blaines wife\\FALL PM\\BWIRFALL15\\15S.csv\n",
      "unknown type data/mat_data/Blaines wife\\FALL PM\\BWIRFALL16\\16S.csv\n",
      "unknown type data/mat_data/Blaines wife\\FALL PM\\BWIRFALL17\\S17.csv\n",
      "unknown type data/mat_data/Blaines wife\\FALL PM\\BWIRFALL18\\18S.csv\n",
      "unknown type data/mat_data/Blaines wife\\FALL PM\\BWIRFALL19\\19S.csv\n",
      "unknown type data/mat_data/Blaines wife\\FALL PM\\BWIRFALL2\\2S.csv\n",
      "unknown type data/mat_data/Blaines wife\\FALL PM\\BWIRFALL20\\20S.csv\n",
      "unknown type data/mat_data/Blaines wife\\FALL PM\\BWIRFALL21\\21S.csv\n",
      "unknown type data/mat_data/Blaines wife\\FALL PM\\BWIRFALL22\\22S.csv\n",
      "unknown type data/mat_data/Blaines wife\\FALL PM\\BWIRFALL23\\23S.csv\n",
      "unknown type data/mat_data/Blaines wife\\FALL PM\\BWIRFALL24\\24S.csv\n",
      "unknown type data/mat_data/Blaines wife\\FALL PM\\BWIRFALL25\\25S.csv\n",
      "unknown type data/mat_data/Blaines wife\\FALL PM\\BWIRFALL26\\26S.csv\n",
      "unknown type data/mat_data/Blaines wife\\FALL PM\\BWIRFALL27\\27S.csv\n",
      "unknown type data/mat_data/Blaines wife\\FALL PM\\BWIRFALL28\\28S.csv\n",
      "unknown type data/mat_data/Blaines wife\\FALL PM\\BWIRFALL29\\29S.csv\n",
      "unknown type data/mat_data/Blaines wife\\FALL PM\\BWIRFALL3\\3S.csv\n",
      "unknown type data/mat_data/Blaines wife\\FALL PM\\BWIRFALL30\\30S.csv\n",
      "unknown type data/mat_data/Blaines wife\\FALL PM\\BWIRFALL31\\31S.csv\n",
      "unknown type data/mat_data/Blaines wife\\FALL PM\\BWIRFALL32\\32S.csv\n",
      "unknown type data/mat_data/Blaines wife\\FALL PM\\BWIRFALL33\\33S.csv\n",
      "unknown type data/mat_data/Blaines wife\\FALL PM\\BWIRFALL34\\34S.csv\n",
      "unknown type data/mat_data/Blaines wife\\FALL PM\\BWIRFALL35\\35S.csv\n",
      "unknown type data/mat_data/Blaines wife\\FALL PM\\BWIRFALL36\\36S.csv\n",
      "unknown type data/mat_data/Blaines wife\\FALL PM\\BWIRFALL4\\4S.csv\n",
      "unknown type data/mat_data/Blaines wife\\FALL PM\\BWIRFALL5\\5S.csv\n",
      "unknown type data/mat_data/Blaines wife\\FALL PM\\BWIRFALL6\\6S.csv\n",
      "unknown type data/mat_data/Blaines wife\\FALL PM\\BWIRFALL7\\7S.csv\n",
      "unknown type data/mat_data/Blaines wife\\FALL PM\\BWIRFALL8\\8S.csv\n",
      "unknown type data/mat_data/Blaines wife\\FALL PM\\BWIRFALL9\\9S.csv\n",
      "unknown type data/mat_data/tests\\subject1\\adl001\\Test1.csv\n",
      "unknown type data/mat_data/tests\\subject1\\adl002\\test2.csv\n",
      "unknown type data/mat_data/tests\\subject1\\adl003\\test3.csv\n",
      "unknown type data/mat_data/tests\\subject1\\adl004\\test4.csv\n",
      "unknown type data/mat_data/tests\\subject1\\Centre 1\\Centre.csv\n",
      "unknown type data/mat_data/tests\\subject1\\Corner 1\\Corner 1.csv\n",
      "unknown type data/mat_data/tests\\subject1\\Corner 2\\Corner 2.csv\n",
      "unknown type data/mat_data/tests\\subject1\\Corner 3\\Corner 3.csv\n",
      "unknown type data/mat_data/tests\\subject1\\Corner 4\\Corner 4.csv\n"
     ]
    }
   ],
   "source": [
    "signatures_f = {}\n",
    "signatures_n = {}\n",
    "for root, dirs, files in os.walk('data/mat_data/'):\n",
    "    for file in files:\n",
    "        if dirs == [] and  file[-3:] == 'csv':\n",
    "            f = os.path.join(root, file)\n",
    "            fr = pd.read_csv(f)\n",
    "            fr.drop(['Frame', 'Timestamp', \"Range Min (mmHg)\", \"Range Max (mmHg)\"], axis=1, inplace=True)\n",
    "            sig = fall_signature(fr, f)\n",
    "            if 'Fall' in root:\n",
    "                signatures_f[f] = sig[sig.n > 10]\n",
    "            elif 'ADL' in root:\n",
    "                signatures_n[f] = sig[sig.n > 10]\n",
    "            else:\n",
    "                print(f'unknown type {f}')\n",
    "\n",
    "            # print(root, dirs, files, file)\n"
   ]
  },
  {
   "cell_type": "code",
   "execution_count": 9,
   "id": "fcacf604-9f72-427f-9eb8-4dbf90c3b2e6",
   "metadata": {},
   "outputs": [
    {
     "ename": "TypeError",
     "evalue": "fall_signature() missing 1 required positional argument: 'path'",
     "output_type": "error",
     "traceback": [
      "\u001b[1;31m---------------------------------------------------------------------------\u001b[0m",
      "\u001b[1;31mTypeError\u001b[0m                                 Traceback (most recent call last)",
      "Cell \u001b[1;32mIn[9], line 9\u001b[0m\n\u001b[0;32m      7\u001b[0m fr \u001b[38;5;241m=\u001b[39m pd\u001b[38;5;241m.\u001b[39mread_csv(f)\n\u001b[0;32m      8\u001b[0m fr\u001b[38;5;241m.\u001b[39mdrop([\u001b[38;5;124m'\u001b[39m\u001b[38;5;124mFrame\u001b[39m\u001b[38;5;124m'\u001b[39m, \u001b[38;5;124m'\u001b[39m\u001b[38;5;124mTimestamp\u001b[39m\u001b[38;5;124m'\u001b[39m, \u001b[38;5;124m\"\u001b[39m\u001b[38;5;124mRange Min (mmHg)\u001b[39m\u001b[38;5;124m\"\u001b[39m, \u001b[38;5;124m\"\u001b[39m\u001b[38;5;124mRange Max (mmHg)\u001b[39m\u001b[38;5;124m\"\u001b[39m], axis\u001b[38;5;241m=\u001b[39m\u001b[38;5;241m1\u001b[39m, inplace\u001b[38;5;241m=\u001b[39m\u001b[38;5;28;01mTrue\u001b[39;00m)\n\u001b[1;32m----> 9\u001b[0m sig \u001b[38;5;241m=\u001b[39m fall_signature(fr)\n\u001b[0;32m     10\u001b[0m \u001b[38;5;28;01mif\u001b[39;00m \u001b[38;5;124m'\u001b[39m\u001b[38;5;124mFall\u001b[39m\u001b[38;5;124m'\u001b[39m \u001b[38;5;129;01min\u001b[39;00m root:\n\u001b[0;32m     11\u001b[0m     signatures_f[f] \u001b[38;5;241m=\u001b[39m sig[sig\u001b[38;5;241m.\u001b[39mn \u001b[38;5;241m>\u001b[39m \u001b[38;5;241m10\u001b[39m]\n",
      "\u001b[1;31mTypeError\u001b[0m: fall_signature() missing 1 required positional argument: 'path'"
     ]
    }
   ],
   "source": [
    "signatures_f = {}\n",
    "signatures_n = {}\n",
    "for root, dirs, files in os.walk('data/mat_data/'):\n",
    "    for file in files:\n",
    "        if dirs == [] and  file[-3:] == 'csv':\n",
    "            f = os.path.join(root, file)\n",
    "            fr = pd.read_csv(f)\n",
    "            fr.drop(['Frame', 'Timestamp', \"Range Min (mmHg)\", \"Range Max (mmHg)\"], axis=1, inplace=True)\n",
    "            sig = fall_signature(fr)\n",
    "            if 'Fall' in root:\n",
    "                signatures_f[f] = sig[sig.n > 10]\n",
    "            elif 'ADL' in root:\n",
    "                signatures_n[f] = sig[sig.n > 10]\n",
    "            else:\n",
    "                print(f'unknown type {f}')\n",
    "\n",
    "            # print(root, dirs, files, file)\n"
   ]
  },
  {
   "cell_type": "code",
   "execution_count": 5,
   "id": "fde8fa68",
   "metadata": {},
   "outputs": [
    {
     "data": {
      "text/plain": [
       "dict_keys(['falls/SFMP0038_Lying_on_right_side_Sisfall_based.csv', 'falls/SFMP0035_Lying_on_right_side_Sisfall_based.csv', 'falls/SFMP0030_Lying_on_left_side_Sisfall_based.csv', 'falls/SFMP0039_Lying_on_right_side_Sisfall_based.csv', 'falls/SFMP0029_Lying_on_left_side_Sisfall_based.csv', 'falls/SFMP0027_Lying_prone_on_back_Sisfall_based.csv', 'falls/SFMP0019_Lying_prone_on_chest_Sisfall_based.csv', 'falls/SFMP0021_Lying_prone_on_chest_Sisfall_based.csv', 'falls/SFMP0020_Lying_prone_on_chest_Sisfall_based.csv', 'falls/SFMP0026_Lying_prone_on_back_Sisfall_based.csv', 'falls/SFMP0017_Lying_prone_on_chest_Sisfall_based.csv', 'falls/SFMP0025_Lying_prone_on_back_Sisfall_based.csv', 'falls/SFMP0016_Lying_prone_on_chest_Sisfall_based.csv', 'falls/SFMP0024_Lying_prone_on_back_Sisfall_based.csv', 'falls/SFMP0034_Lying_on_right_side_Sisfall_based.csv', 'falls/SFMP0022_Lying_prone_on_back_Sisfall_based.csv', 'falls/SFMP0031_Lying_on_left_side_Sisfall_based.csv', 'falls/SFMP0018_Lying_prone_on_chest_Sisfall_based.csv', 'falls/SFMP0032_Lying_on_left_side_Sisfall_based.csv', 'falls/SFMP0033_Lying_on_left_side_Sisfall_based.csv', 'falls/SFMP0028_Lying_on_left_side_Sisfall_based.csv', 'falls/SFMP0023_Lying_prone_on_back_Sisfall_based.csv', 'falls/SFMP0036_Lying_on_right_side_Sisfall_based.csv', 'falls/SFMP0037_Lying_on_right_side_Sisfall_based.csv'])"
      ]
     },
     "execution_count": 5,
     "metadata": {},
     "output_type": "execute_result"
    }
   ],
   "source": [
    "# signatures_f = {}\n",
    "\n",
    "# for f in glob.glob(os.path.join('data', 'mat_data', 'falls/*csv'):\n",
    "#     fr = pd.read_csv(f)\n",
    "#     fr.drop(['Frame', 'Timestamp', \"Range Min (mmHg)\", \"Range Max (mmHg)\"], axis=1, inplace=True)\n",
    "#     sig = fall_signature(fr)\n",
    "#     signatures_f[f] = sig[sig.n > 10]\n",
    "\n",
    "# signatures_f.keys()"
   ]
  },
  {
   "cell_type": "code",
   "execution_count": 6,
   "id": "fb76870f",
   "metadata": {},
   "outputs": [
    {
     "data": {
      "text/plain": [
       "dict_keys(['not-falls/SFMP0089_Prayer_walk_kneel_medium.csv', 'not-falls/SFMP0079_Bump_into_something_sock_small.csv', 'not-falls/SFMP0063_Cain_in_left_hand.csv', 'not-falls/SFMP0087_Back_pack_large_left.csv', 'not-falls/SFMP0070_Walk_drop_recover.csv', 'not-falls/SFMP0041_Fetal_left_side.csv', 'not-falls/SFMP0073_Walking_to_chair_sock_small.csv', 'not-falls/SFMP0074_Walking_to_chair_sock_medium.csv', 'not-falls/SFMP0080_Bump_into_something_sock_medium.csv', 'not-falls/SFMP0053_Medium_step_sock.csv', 'not-falls/SFMP0058_Small_step_slipper.csv', 'not-falls/SFMP0059_Medium_step_slipper.csv', 'not-falls/SFMP0043_Splat_2.csv', 'not-falls/SFMP0085_Back_pack_small_left.csv', 'not-falls/SFMP0064_Cain_in_right_hand.csv', 'not-falls/SFMP0084_Large_steps_right_hand_bag_down.csv', 'not-falls/SFMP0071_Walk_drop_knee_recover.csv', 'not-falls/SFMP0049_Feet_up.csv', 'not-falls/SFMP0044_Yoga_position.csv', 'not-falls/SFMP0076_Walking_from_chair_small_sock.csv', 'not-falls/SFMP0077_Walking_from_chair_medium_sock.csv', 'not-falls/SFMP0062_Right_foot_limp_unaided.csv', 'not-falls/SFMP0072_Kicking_the_can.csv', 'not-falls/SFMP0061_Left_foot_limp_unaided.csv', 'not-falls/SFMP0045_Splat_3.csv', 'not-falls/SFMP0048_Partial_left_side.csv', 'not-falls/SFMP0065_Two_Cains.csv', 'not-falls/SFMP0082_Small_steps_right_hand_bag_down.csv', 'not-falls/SFMP0090_Prayer_walk_kneel_large.csv', 'not-falls/SFMP0081_Bump_into_something_sock_large.csv', 'not-falls/SFMP0067_Stumble_left.csv', 'not-falls/SFMP0066_Stumble.csv', 'not-falls/SFMP0051_Knees_and_arms.csv', 'not-falls/SFMP0050_Feet_up_different_arms.csv', 'not-falls/SFMP0075_Walking_to_chair_sock_large.csv', 'not-falls/SFMP0057_Large_step_shoe.csv', 'not-falls/SFMP0068_Veer_side_step.csv', 'not-falls/SFMP0056_Medium_step_shoe.csv', 'not-falls/SFMP0054_Large_step_sock.csv', 'not-falls/SFMP0069_Veer_left_side_step.csv', 'not-falls/SFMP0042_Splat_1.csv', 'not-falls/SFMP0078_Walking_from_chair_large_sock.csv', 'not-falls/SFMP0088_Prayer_walk_kneel_small.csv', 'not-falls/SFMP0060_Large_step_slipper.csv', 'not-falls/SFMP0083_Medium_steps_right_hand_bag_down.csv', 'not-falls/SFMP0055_Small_step_shoe.csv', 'not-falls/SFMP0086_Back_pack_medium_left.csv', 'not-falls/SFMP0040_Fetal_right_side.csv', 'not-falls/SFMP0047_Partial_right_side.csv', 'not-falls/SFMP0052_Small_step_sock.csv', 'not-falls/SFMP0046_Splat_4.csv'])"
      ]
     },
     "execution_count": 6,
     "metadata": {},
     "output_type": "execute_result"
    }
   ],
   "source": [
    "# signatures_n = {}\n",
    "\n",
    "# for f in glob.glob('not-falls/*csv'):\n",
    "#     fr = pd.read_csv(f)\n",
    "#     fr.drop(['Frame', 'Timestamp', \"Range Min (mmHg)\", \"Range Max (mmHg)\"], axis=1, inplace=True)\n",
    "#     sig = fall_signature(fr)\n",
    "#     signatures_n[f] = sig[sig.n > 10]\n",
    "\n",
    "# signatures_n.keys()"
   ]
  },
  {
   "cell_type": "code",
   "execution_count": null,
   "id": "62ac7c01-1f77-479a-a67c-a1e35742d929",
   "metadata": {},
   "outputs": [],
   "source": [
    "len(signatures_f) + len(signatures_n)"
   ]
  },
  {
   "cell_type": "code",
   "execution_count": 6,
   "id": "9d32fbfd",
   "metadata": {},
   "outputs": [],
   "source": [
    "# signatures_f['falls/SFMP0022_Lying_prone_on_back_Sisfall_based.csv']"
   ]
  },
  {
   "cell_type": "markdown",
   "id": "2c4888d5",
   "metadata": {},
   "source": [
    "## Combine the data"
   ]
  },
  {
   "cell_type": "code",
   "execution_count": null,
   "id": "7463b434",
   "metadata": {},
   "outputs": [],
   "source": [
    "sfs = pd.concat(signatures_f.values(), ignore_index=True)\n",
    "sns = pd.concat(signatures_n.values(), ignore_index=True)"
   ]
  },
  {
   "cell_type": "code",
   "execution_count": null,
   "id": "ce30ad0f",
   "metadata": {},
   "outputs": [],
   "source": [
    "sfs['a'] = sfs.s / sfs.n\n",
    "sns['a'] = sns.s / sns.n"
   ]
  },
  {
   "cell_type": "code",
   "execution_count": 9,
   "id": "b1101583",
   "metadata": {},
   "outputs": [
    {
     "data": {
      "image/png": "[encoded data removed]",
      "text/plain": [
       "<Figure size 640x480 with 1 Axes>"
      ]
     },
     "metadata": {},
     "output_type": "display_data"
    }
   ],
   "source": [
    "ax = sfs.sample(n=2000).plot.scatter(x=\"s\", y=\"n\", color=\"Blue\", label=\"Falls\", marker='x', alpha=0.5)\n",
    "sns.sample(n=2000).plot.scatter(x=\"s\", y=\"n\", color=\"red\", label=\"Not falls\", marker='+', alpha=0.5, ax=ax);"
   ]
  },
  {
   "cell_type": "code",
   "execution_count": 50,
   "id": "67543c5c-6a4f-478d-bbdb-c71bc6e01e24",
   "metadata": {},
   "outputs": [
    {
     "data": {
      "image/png": "[encoded data removed]",
      "text/plain": [
       "<Figure size 640x480 with 1 Axes>"
      ]
     },
     "metadata": {},
     "output_type": "display_data"
    }
   ],
   "source": [
    "ax = sns.sample(n=2000).plot.scatter(x=\"s\", y=\"n\", color=\"Blue\", label=\"Not falls\", marker='x', alpha=0.5)\n",
    "sfs.sample(n=2000).plot.scatter(x=\"s\", y=\"n\", color=\"red\", label=\"Falls\", marker='+', alpha=0.5, ax=ax);"
   ]
  },
  {
   "cell_type": "code",
   "execution_count": null,
   "id": "dbf24ec9",
   "metadata": {},
   "outputs": [],
   "source": [
    "ax = sfs.plot.scatter(x=\"a\", y=\"n\", color=\"Blue\", label=\"Falls\")\n",
    "sns.plot.scatter(x=\"a\", y=\"n\", color=\"red\", label=\"Not falls\", ax=ax);"
   ]
  },
  {
   "cell_type": "code",
   "execution_count": null,
   "id": "d948af57-bcea-420a-91a6-b47230f3ee2f",
   "metadata": {},
   "outputs": [],
   "source": [
    "ax = sns.sample(2000).plot.scatter(x=\"a\", y=\"n\", color=\"Blue\", label=\"Not falls\", marker='x', alpha=0.5)\n",
    "sfs.sample(2000).plot.scatter(x=\"a\", y=\"n\", color=\"red\", label=\"Falls\", marker='+', alpha=0.95, ax=ax);"
   ]
  },
  {
   "cell_type": "code",
   "execution_count": null,
   "id": "4d585b30-6c48-4878-ac60-d53fde56e363",
   "metadata": {
    "scrolled": true
   },
   "outputs": [],
   "source": [
    "def is_conflictive_fall(x, y):\n",
    "    slope = 4\n",
    "    function_y = (slope * (x - 60)) + 75\n",
    "    return function_y >= y\n",
    "\n",
    "def is_definitely_fall(frame):\n",
    "    return not is_conflictive_fall(frame)\n",
    "\n",
    "conflictive_falls = []\n",
    "definitive_falls = []\n",
    "for index, frame in sfs.iterrows():\n",
    "    if is_conflictive_fall(frame['a'], frame['n']):\n",
    "        conflictive_falls.append(frame)\n",
    "    else:\n",
    "        definitive_falls.append(frame)\n",
    "conflictive_falls = pd.DataFrame(conflictive_falls)\n",
    "definitive_falls = pd.DataFrame(definitive_falls)\n",
    "\n",
    "ax = sns.plot.scatter(x=\"a\", y=\"n\", color=\"Blue\", label=\"Not falls\", marker='x', alpha=0.01)\n",
    "definitive_falls.plot.scatter(x=\"a\", y=\"n\", color=\"red\", label=\"Falls\", marker='+', alpha=0.02, ax=ax);\n",
    "conflictive_falls.plot.scatter(x=\"a\", y=\"n\", color=\"green\", label=\"Conflictive Falls\", marker='*', alpha=0.03, ax=ax);\n",
    "\n",
    "print(f'Not falls set: {sns}')\n",
    "print(f'Falls set: {sfs}')\n",
    "print(f'Conflictive set: {conflictive_falls}')\n",
    "conflictive_falls.to_csv('conflictive_falls.csv')\n",
    "print(f'Clear falls set: {definitive_falls}')"
   ]
  },
  {
   "cell_type": "code",
   "execution_count": null,
   "id": "c8f3e076-fdcf-4e8b-ba16-1be23dfc6a54",
   "metadata": {},
   "outputs": [],
   "source": [
    "ax = sns.sample(2000).plot.scatter(x=\"a\", y=\"n\", color=\"Blue\", label=\"Not falls\", marker='x', alpha=0.5)\n",
    "sfs.sample(2000).plot.scatter(x=\"a\", y=\"n\", color=\"red\", label=\"Falls\", marker='+', alpha=0.95, ax=ax);"
   ]
  },
  {
   "cell_type": "code",
   "execution_count": null,
   "id": "51c693f5",
   "metadata": {},
   "outputs": [],
   "source": [
    "sns[sns.n < 150].shape"
   ]
  },
  {
   "cell_type": "code",
   "execution_count": null,
   "id": "d6f1fc38",
   "metadata": {},
   "outputs": [],
   "source": [
    "sns.shape"
   ]
  },
  {
   "cell_type": "markdown",
   "id": "2c770645",
   "metadata": {},
   "source": [
    "# Package data into X and y numpy arrays"
   ]
  },
  {
   "cell_type": "code",
   "execution_count": 13,
   "id": "30228ea9",
   "metadata": {},
   "outputs": [],
   "source": [
    "sfs['y'] = 1\n",
    "sns['y'] = 0"
   ]
  },
  {
   "cell_type": "code",
   "execution_count": 14,
   "id": "20e2d017",
   "metadata": {},
   "outputs": [
    {
     "data": {
      "text/plain": [
       "(129396, 4)"
      ]
     },
     "execution_count": 14,
     "metadata": {},
     "output_type": "execute_result"
    }
   ],
   "source": [
    "all_xy = pd.concat([sfs, sns])\n",
    "all_xy.shape"
   ]
  },
  {
   "cell_type": "code",
   "execution_count": 15,
   "id": "c707e8fa",
   "metadata": {},
   "outputs": [
    {
     "data": {
      "text/html": [
       "<div>\n",
       "<style scoped>\n",
       "    .dataframe tbody tr th:only-of-type {\n",
       "        vertical-align: middle;\n",
       "    }\n",
       "\n",
       "    .dataframe tbody tr th {\n",
       "        vertical-align: top;\n",
       "    }\n",
       "\n",
       "    .dataframe thead th {\n",
       "        text-align: right;\n",
       "    }\n",
       "</style>\n",
       "<table border=\"1\" class=\"dataframe\">\n",
       "  <thead>\n",
       "    <tr style=\"text-align: right;\">\n",
       "      <th></th>\n",
       "      <th>s</th>\n",
       "      <th>n</th>\n",
       "      <th>a</th>\n",
       "      <th>y</th>\n",
       "    </tr>\n",
       "  </thead>\n",
       "  <tbody>\n",
       "    <tr>\n",
       "      <th>0</th>\n",
       "      <td>7517.0</td>\n",
       "      <td>141</td>\n",
       "      <td>53.312057</td>\n",
       "      <td>1</td>\n",
       "    </tr>\n",
       "    <tr>\n",
       "      <th>1</th>\n",
       "      <td>7551.0</td>\n",
       "      <td>141</td>\n",
       "      <td>53.553191</td>\n",
       "      <td>1</td>\n",
       "    </tr>\n",
       "    <tr>\n",
       "      <th>2</th>\n",
       "      <td>7594.0</td>\n",
       "      <td>146</td>\n",
       "      <td>52.013699</td>\n",
       "      <td>1</td>\n",
       "    </tr>\n",
       "    <tr>\n",
       "      <th>3</th>\n",
       "      <td>7532.0</td>\n",
       "      <td>141</td>\n",
       "      <td>53.418440</td>\n",
       "      <td>1</td>\n",
       "    </tr>\n",
       "    <tr>\n",
       "      <th>4</th>\n",
       "      <td>7546.0</td>\n",
       "      <td>144</td>\n",
       "      <td>52.402778</td>\n",
       "      <td>1</td>\n",
       "    </tr>\n",
       "    <tr>\n",
       "      <th>...</th>\n",
       "      <td>...</td>\n",
       "      <td>...</td>\n",
       "      <td>...</td>\n",
       "      <td>...</td>\n",
       "    </tr>\n",
       "    <tr>\n",
       "      <th>79549</th>\n",
       "      <td>1563.0</td>\n",
       "      <td>17</td>\n",
       "      <td>91.941176</td>\n",
       "      <td>0</td>\n",
       "    </tr>\n",
       "    <tr>\n",
       "      <th>79550</th>\n",
       "      <td>1581.0</td>\n",
       "      <td>17</td>\n",
       "      <td>93.000000</td>\n",
       "      <td>0</td>\n",
       "    </tr>\n",
       "    <tr>\n",
       "      <th>79551</th>\n",
       "      <td>1602.0</td>\n",
       "      <td>17</td>\n",
       "      <td>94.235294</td>\n",
       "      <td>0</td>\n",
       "    </tr>\n",
       "    <tr>\n",
       "      <th>79552</th>\n",
       "      <td>1604.0</td>\n",
       "      <td>17</td>\n",
       "      <td>94.352941</td>\n",
       "      <td>0</td>\n",
       "    </tr>\n",
       "    <tr>\n",
       "      <th>79553</th>\n",
       "      <td>1496.0</td>\n",
       "      <td>16</td>\n",
       "      <td>93.500000</td>\n",
       "      <td>0</td>\n",
       "    </tr>\n",
       "  </tbody>\n",
       "</table>\n",
       "<p>129396 rows × 4 columns</p>\n",
       "</div>"
      ],
      "text/plain": [
       "            s    n          a  y\n",
       "0      7517.0  141  53.312057  1\n",
       "1      7551.0  141  53.553191  1\n",
       "2      7594.0  146  52.013699  1\n",
       "3      7532.0  141  53.418440  1\n",
       "4      7546.0  144  52.402778  1\n",
       "...       ...  ...        ... ..\n",
       "79549  1563.0   17  91.941176  0\n",
       "79550  1581.0   17  93.000000  0\n",
       "79551  1602.0   17  94.235294  0\n",
       "79552  1604.0   17  94.352941  0\n",
       "79553  1496.0   16  93.500000  0\n",
       "\n",
       "[129396 rows x 4 columns]"
      ]
     },
     "execution_count": 15,
     "metadata": {},
     "output_type": "execute_result"
    }
   ],
   "source": [
    "all_xy"
   ]
  },
  {
   "cell_type": "code",
   "execution_count": 16,
   "id": "fad69914",
   "metadata": {},
   "outputs": [
    {
     "data": {
      "text/plain": [
       "((129396, 2), (129396,))"
      ]
     },
     "execution_count": 16,
     "metadata": {},
     "output_type": "execute_result"
    }
   ],
   "source": [
    "all_x = all_xy[['n', 'a']].to_numpy()\n",
    "all_y = all_xy[['y']].to_numpy().reshape(-1)\n",
    "column_names = [\"n\", \"a\"]\n",
    "all_x.shape, all_y.shape"
   ]
  },
  {
   "cell_type": "markdown",
   "id": "ef6eaf2e",
   "metadata": {},
   "source": [
    "# Train a decision tree"
   ]
  },
  {
   "cell_type": "code",
   "execution_count": 17,
   "id": "69c11647",
   "metadata": {},
   "outputs": [
    {
     "data": {
      "text/plain": [
       "((97047, 2), (97047,))"
      ]
     },
     "execution_count": 17,
     "metadata": {},
     "output_type": "execute_result"
    }
   ],
   "source": [
    "X_train, X_test, y_train, y_test = train_test_split(all_x, all_y, test_size=0.25)\n",
    "X_train.shape, y_train.shape"
   ]
  },
  {
   "cell_type": "code",
   "execution_count": 18,
   "id": "132a1654",
   "metadata": {},
   "outputs": [
    {
     "data": {
      "text/plain": [
       "array([0, 1, 0, ..., 1, 0, 0])"
      ]
     },
     "execution_count": 18,
     "metadata": {},
     "output_type": "execute_result"
    }
   ],
   "source": [
    "y_train"
   ]
  },
  {
   "cell_type": "code",
   "execution_count": 19,
   "id": "31840827",
   "metadata": {},
   "outputs": [
    {
     "data": {
      "text/plain": [
       "(array([59578, 37469]), array([19976, 12373]))"
      ]
     },
     "execution_count": 19,
     "metadata": {},
     "output_type": "execute_result"
    }
   ],
   "source": [
    "np.bincount(y_train), np.bincount(y_test), "
   ]
  },
  {
   "cell_type": "code",
   "execution_count": 20,
   "id": "d13af64b",
   "metadata": {},
   "outputs": [
    {
     "data": {
      "text/html": [
       "<style>#sk-container-id-1 {\n",
       "  /* Definition of color scheme common for light and dark mode */\n",
       "  --sklearn-color-text: black;\n",
       "  --sklearn-color-line: gray;\n",
       "  /* Definition of color scheme for unfitted estimators */\n",
       "  --sklearn-color-unfitted-level-0: #fff5e6;\n",
       "  --sklearn-color-unfitted-level-1: #f6e4d2;\n",
       "  --sklearn-color-unfitted-level-2: #ffe0b3;\n",
       "  --sklearn-color-unfitted-level-3: chocolate;\n",
       "  /* Definition of color scheme for fitted estimators */\n",
       "  --sklearn-color-fitted-level-0: #f0f8ff;\n",
       "  --sklearn-color-fitted-level-1: #d4ebff;\n",
       "  --sklearn-color-fitted-level-2: #b3dbfd;\n",
       "  --sklearn-color-fitted-level-3: cornflowerblue;\n",
       "\n",
       "  /* Specific color for light theme */\n",
       "  --sklearn-color-text-on-default-background: var(--sg-text-color, var(--theme-code-foreground, var(--jp-content-font-color1, black)));\n",
       "  --sklearn-color-background: var(--sg-background-color, var(--theme-background, var(--jp-layout-color0, white)));\n",
       "  --sklearn-color-border-box: var(--sg-text-color, var(--theme-code-foreground, var(--jp-content-font-color1, black)));\n",
       "  --sklearn-color-icon: #696969;\n",
       "\n",
       "  @media (prefers-color-scheme: dark) {\n",
       "    /* Redefinition of color scheme for dark theme */\n",
       "    --sklearn-color-text-on-default-background: var(--sg-text-color, var(--theme-code-foreground, var(--jp-content-font-color1, white)));\n",
       "    --sklearn-color-background: var(--sg-background-color, var(--theme-background, var(--jp-layout-color0, #111)));\n",
       "    --sklearn-color-border-box: var(--sg-text-color, var(--theme-code-foreground, var(--jp-content-font-color1, white)));\n",
       "    --sklearn-color-icon: #878787;\n",
       "  }\n",
       "}\n",
       "\n",
       "#sk-container-id-1 {\n",
       "  color: var(--sklearn-color-text);\n",
       "}\n",
       "\n",
       "#sk-container-id-1 pre {\n",
       "  padding: 0;\n",
       "}\n",
       "\n",
       "#sk-container-id-1 input.sk-hidden--visually {\n",
       "  border: 0;\n",
       "  clip: rect(1px 1px 1px 1px);\n",
       "  clip: rect(1px, 1px, 1px, 1px);\n",
       "  height: 1px;\n",
       "  margin: -1px;\n",
       "  overflow: hidden;\n",
       "  padding: 0;\n",
       "  position: absolute;\n",
       "  width: 1px;\n",
       "}\n",
       "\n",
       "#sk-container-id-1 div.sk-dashed-wrapped {\n",
       "  border: 1px dashed var(--sklearn-color-line);\n",
       "  margin: 0 0.4em 0.5em 0.4em;\n",
       "  box-sizing: border-box;\n",
       "  padding-bottom: 0.4em;\n",
       "  background-color: var(--sklearn-color-background);\n",
       "}\n",
       "\n",
       "#sk-container-id-1 div.sk-container {\n",
       "  /* jupyter's `normalize.less` sets `[hidden] { display: none; }`\n",
       "     but bootstrap.min.css set `[hidden] { display: none !important; }`\n",
       "     so we also need the `!important` here to be able to override the\n",
       "     default hidden behavior on the sphinx rendered scikit-learn.org.\n",
       "     See: https://github.com/scikit-learn/scikit-learn/issues/21755 */\n",
       "  display: inline-block !important;\n",
       "  position: relative;\n",
       "}\n",
       "\n",
       "#sk-container-id-1 div.sk-text-repr-fallback {\n",
       "  display: none;\n",
       "}\n",
       "\n",
       "div.sk-parallel-item,\n",
       "div.sk-serial,\n",
       "div.sk-item {\n",
       "  /* draw centered vertical line to link estimators */\n",
       "  background-image: linear-gradient(var(--sklearn-color-text-on-default-background), var(--sklearn-color-text-on-default-background));\n",
       "  background-size: 2px 100%;\n",
       "  background-repeat: no-repeat;\n",
       "  background-position: center center;\n",
       "}\n",
       "\n",
       "/* Parallel-specific style estimator block */\n",
       "\n",
       "#sk-container-id-1 div.sk-parallel-item::after {\n",
       "  content: \"\";\n",
       "  width: 100%;\n",
       "  border-bottom: 2px solid var(--sklearn-color-text-on-default-background);\n",
       "  flex-grow: 1;\n",
       "}\n",
       "\n",
       "#sk-container-id-1 div.sk-parallel {\n",
       "  display: flex;\n",
       "  align-items: stretch;\n",
       "  justify-content: center;\n",
       "  background-color: var(--sklearn-color-background);\n",
       "  position: relative;\n",
       "}\n",
       "\n",
       "#sk-container-id-1 div.sk-parallel-item {\n",
       "  display: flex;\n",
       "  flex-direction: column;\n",
       "}\n",
       "\n",
       "#sk-container-id-1 div.sk-parallel-item:first-child::after {\n",
       "  align-self: flex-end;\n",
       "  width: 50%;\n",
       "}\n",
       "\n",
       "#sk-container-id-1 div.sk-parallel-item:last-child::after {\n",
       "  align-self: flex-start;\n",
       "  width: 50%;\n",
       "}\n",
       "\n",
       "#sk-container-id-1 div.sk-parallel-item:only-child::after {\n",
       "  width: 0;\n",
       "}\n",
       "\n",
       "/* Serial-specific style estimator block */\n",
       "\n",
       "#sk-container-id-1 div.sk-serial {\n",
       "  display: flex;\n",
       "  flex-direction: column;\n",
       "  align-items: center;\n",
       "  background-color: var(--sklearn-color-background);\n",
       "  padding-right: 1em;\n",
       "  padding-left: 1em;\n",
       "}\n",
       "\n",
       "\n",
       "/* Toggleable style: style used for estimator/Pipeline/ColumnTransformer box that is\n",
       "clickable and can be expanded/collapsed.\n",
       "- Pipeline and ColumnTransformer use this feature and define the default style\n",
       "- Estimators will overwrite some part of the style using the `sk-estimator` class\n",
       "*/\n",
       "\n",
       "/* Pipeline and ColumnTransformer style (default) */\n",
       "\n",
       "#sk-container-id-1 div.sk-toggleable {\n",
       "  /* Default theme specific background. It is overwritten whether we have a\n",
       "  specific estimator or a Pipeline/ColumnTransformer */\n",
       "  background-color: var(--sklearn-color-background);\n",
       "}\n",
       "\n",
       "/* Toggleable label */\n",
       "#sk-container-id-1 label.sk-toggleable__label {\n",
       "  cursor: pointer;\n",
       "  display: block;\n",
       "  width: 100%;\n",
       "  margin-bottom: 0;\n",
       "  padding: 0.5em;\n",
       "  box-sizing: border-box;\n",
       "  text-align: center;\n",
       "}\n",
       "\n",
       "#sk-container-id-1 label.sk-toggleable__label-arrow:before {\n",
       "  /* Arrow on the left of the label */\n",
       "  content: \"▸\";\n",
       "  float: left;\n",
       "  margin-right: 0.25em;\n",
       "  color: var(--sklearn-color-icon);\n",
       "}\n",
       "\n",
       "#sk-container-id-1 label.sk-toggleable__label-arrow:hover:before {\n",
       "  color: var(--sklearn-color-text);\n",
       "}\n",
       "\n",
       "/* Toggleable content - dropdown */\n",
       "\n",
       "#sk-container-id-1 div.sk-toggleable__content {\n",
       "  max-height: 0;\n",
       "  max-width: 0;\n",
       "  overflow: hidden;\n",
       "  text-align: left;\n",
       "  /* unfitted */\n",
       "  background-color: var(--sklearn-color-unfitted-level-0);\n",
       "}\n",
       "\n",
       "#sk-container-id-1 div.sk-toggleable__content.fitted {\n",
       "  /* fitted */\n",
       "  background-color: var(--sklearn-color-fitted-level-0);\n",
       "}\n",
       "\n",
       "#sk-container-id-1 div.sk-toggleable__content pre {\n",
       "  margin: 0.2em;\n",
       "  border-radius: 0.25em;\n",
       "  color: var(--sklearn-color-text);\n",
       "  /* unfitted */\n",
       "  background-color: var(--sklearn-color-unfitted-level-0);\n",
       "}\n",
       "\n",
       "#sk-container-id-1 div.sk-toggleable__content.fitted pre {\n",
       "  /* unfitted */\n",
       "  background-color: var(--sklearn-color-fitted-level-0);\n",
       "}\n",
       "\n",
       "#sk-container-id-1 input.sk-toggleable__control:checked~div.sk-toggleable__content {\n",
       "  /* Expand drop-down */\n",
       "  max-height: 200px;\n",
       "  max-width: 100%;\n",
       "  overflow: auto;\n",
       "}\n",
       "\n",
       "#sk-container-id-1 input.sk-toggleable__control:checked~label.sk-toggleable__label-arrow:before {\n",
       "  content: \"▾\";\n",
       "}\n",
       "\n",
       "/* Pipeline/ColumnTransformer-specific style */\n",
       "\n",
       "#sk-container-id-1 div.sk-label input.sk-toggleable__control:checked~label.sk-toggleable__label {\n",
       "  color: var(--sklearn-color-text);\n",
       "  background-color: var(--sklearn-color-unfitted-level-2);\n",
       "}\n",
       "\n",
       "#sk-container-id-1 div.sk-label.fitted input.sk-toggleable__control:checked~label.sk-toggleable__label {\n",
       "  background-color: var(--sklearn-color-fitted-level-2);\n",
       "}\n",
       "\n",
       "/* Estimator-specific style */\n",
       "\n",
       "/* Colorize estimator box */\n",
       "#sk-container-id-1 div.sk-estimator input.sk-toggleable__control:checked~label.sk-toggleable__label {\n",
       "  /* unfitted */\n",
       "  background-color: var(--sklearn-color-unfitted-level-2);\n",
       "}\n",
       "\n",
       "#sk-container-id-1 div.sk-estimator.fitted input.sk-toggleable__control:checked~label.sk-toggleable__label {\n",
       "  /* fitted */\n",
       "  background-color: var(--sklearn-color-fitted-level-2);\n",
       "}\n",
       "\n",
       "#sk-container-id-1 div.sk-label label.sk-toggleable__label,\n",
       "#sk-container-id-1 div.sk-label label {\n",
       "  /* The background is the default theme color */\n",
       "  color: var(--sklearn-color-text-on-default-background);\n",
       "}\n",
       "\n",
       "/* On hover, darken the color of the background */\n",
       "#sk-container-id-1 div.sk-label:hover label.sk-toggleable__label {\n",
       "  color: var(--sklearn-color-text);\n",
       "  background-color: var(--sklearn-color-unfitted-level-2);\n",
       "}\n",
       "\n",
       "/* Label box, darken color on hover, fitted */\n",
       "#sk-container-id-1 div.sk-label.fitted:hover label.sk-toggleable__label.fitted {\n",
       "  color: var(--sklearn-color-text);\n",
       "  background-color: var(--sklearn-color-fitted-level-2);\n",
       "}\n",
       "\n",
       "/* Estimator label */\n",
       "\n",
       "#sk-container-id-1 div.sk-label label {\n",
       "  font-family: monospace;\n",
       "  font-weight: bold;\n",
       "  display: inline-block;\n",
       "  line-height: 1.2em;\n",
       "}\n",
       "\n",
       "#sk-container-id-1 div.sk-label-container {\n",
       "  text-align: center;\n",
       "}\n",
       "\n",
       "/* Estimator-specific */\n",
       "#sk-container-id-1 div.sk-estimator {\n",
       "  font-family: monospace;\n",
       "  border: 1px dotted var(--sklearn-color-border-box);\n",
       "  border-radius: 0.25em;\n",
       "  box-sizing: border-box;\n",
       "  margin-bottom: 0.5em;\n",
       "  /* unfitted */\n",
       "  background-color: var(--sklearn-color-unfitted-level-0);\n",
       "}\n",
       "\n",
       "#sk-container-id-1 div.sk-estimator.fitted {\n",
       "  /* fitted */\n",
       "  background-color: var(--sklearn-color-fitted-level-0);\n",
       "}\n",
       "\n",
       "/* on hover */\n",
       "#sk-container-id-1 div.sk-estimator:hover {\n",
       "  /* unfitted */\n",
       "  background-color: var(--sklearn-color-unfitted-level-2);\n",
       "}\n",
       "\n",
       "#sk-container-id-1 div.sk-estimator.fitted:hover {\n",
       "  /* fitted */\n",
       "  background-color: var(--sklearn-color-fitted-level-2);\n",
       "}\n",
       "\n",
       "/* Specification for estimator info (e.g. \"i\" and \"?\") */\n",
       "\n",
       "/* Common style for \"i\" and \"?\" */\n",
       "\n",
       ".sk-estimator-doc-link,\n",
       "a:link.sk-estimator-doc-link,\n",
       "a:visited.sk-estimator-doc-link {\n",
       "  float: right;\n",
       "  font-size: smaller;\n",
       "  line-height: 1em;\n",
       "  font-family: monospace;\n",
       "  background-color: var(--sklearn-color-background);\n",
       "  border-radius: 1em;\n",
       "  height: 1em;\n",
       "  width: 1em;\n",
       "  text-decoration: none !important;\n",
       "  margin-left: 1ex;\n",
       "  /* unfitted */\n",
       "  border: var(--sklearn-color-unfitted-level-1) 1pt solid;\n",
       "  color: var(--sklearn-color-unfitted-level-1);\n",
       "}\n",
       "\n",
       ".sk-estimator-doc-link.fitted,\n",
       "a:link.sk-estimator-doc-link.fitted,\n",
       "a:visited.sk-estimator-doc-link.fitted {\n",
       "  /* fitted */\n",
       "  border: var(--sklearn-color-fitted-level-1) 1pt solid;\n",
       "  color: var(--sklearn-color-fitted-level-1);\n",
       "}\n",
       "\n",
       "/* On hover */\n",
       "div.sk-estimator:hover .sk-estimator-doc-link:hover,\n",
       ".sk-estimator-doc-link:hover,\n",
       "div.sk-label-container:hover .sk-estimator-doc-link:hover,\n",
       ".sk-estimator-doc-link:hover {\n",
       "  /* unfitted */\n",
       "  background-color: var(--sklearn-color-unfitted-level-3);\n",
       "  color: var(--sklearn-color-background);\n",
       "  text-decoration: none;\n",
       "}\n",
       "\n",
       "div.sk-estimator.fitted:hover .sk-estimator-doc-link.fitted:hover,\n",
       ".sk-estimator-doc-link.fitted:hover,\n",
       "div.sk-label-container:hover .sk-estimator-doc-link.fitted:hover,\n",
       ".sk-estimator-doc-link.fitted:hover {\n",
       "  /* fitted */\n",
       "  background-color: var(--sklearn-color-fitted-level-3);\n",
       "  color: var(--sklearn-color-background);\n",
       "  text-decoration: none;\n",
       "}\n",
       "\n",
       "/* Span, style for the box shown on hovering the info icon */\n",
       ".sk-estimator-doc-link span {\n",
       "  display: none;\n",
       "  z-index: 9999;\n",
       "  position: relative;\n",
       "  font-weight: normal;\n",
       "  right: .2ex;\n",
       "  padding: .5ex;\n",
       "  margin: .5ex;\n",
       "  width: min-content;\n",
       "  min-width: 20ex;\n",
       "  max-width: 50ex;\n",
       "  color: var(--sklearn-color-text);\n",
       "  box-shadow: 2pt 2pt 4pt #999;\n",
       "  /* unfitted */\n",
       "  background: var(--sklearn-color-unfitted-level-0);\n",
       "  border: .5pt solid var(--sklearn-color-unfitted-level-3);\n",
       "}\n",
       "\n",
       ".sk-estimator-doc-link.fitted span {\n",
       "  /* fitted */\n",
       "  background: var(--sklearn-color-fitted-level-0);\n",
       "  border: var(--sklearn-color-fitted-level-3);\n",
       "}\n",
       "\n",
       ".sk-estimator-doc-link:hover span {\n",
       "  display: block;\n",
       "}\n",
       "\n",
       "/* \"?\"-specific style due to the `<a>` HTML tag */\n",
       "\n",
       "#sk-container-id-1 a.estimator_doc_link {\n",
       "  float: right;\n",
       "  font-size: 1rem;\n",
       "  line-height: 1em;\n",
       "  font-family: monospace;\n",
       "  background-color: var(--sklearn-color-background);\n",
       "  border-radius: 1rem;\n",
       "  height: 1rem;\n",
       "  width: 1rem;\n",
       "  text-decoration: none;\n",
       "  /* unfitted */\n",
       "  color: var(--sklearn-color-unfitted-level-1);\n",
       "  border: var(--sklearn-color-unfitted-level-1) 1pt solid;\n",
       "}\n",
       "\n",
       "#sk-container-id-1 a.estimator_doc_link.fitted {\n",
       "  /* fitted */\n",
       "  border: var(--sklearn-color-fitted-level-1) 1pt solid;\n",
       "  color: var(--sklearn-color-fitted-level-1);\n",
       "}\n",
       "\n",
       "/* On hover */\n",
       "#sk-container-id-1 a.estimator_doc_link:hover {\n",
       "  /* unfitted */\n",
       "  background-color: var(--sklearn-color-unfitted-level-3);\n",
       "  color: var(--sklearn-color-background);\n",
       "  text-decoration: none;\n",
       "}\n",
       "\n",
       "#sk-container-id-1 a.estimator_doc_link.fitted:hover {\n",
       "  /* fitted */\n",
       "  background-color: var(--sklearn-color-fitted-level-3);\n",
       "}\n",
       "</style><div id=\"sk-container-id-1\" class=\"sk-top-container\"><div class=\"sk-text-repr-fallback\"><pre>DecisionTreeClassifier(criterion=&#x27;entropy&#x27;)</pre><b>In a Jupyter environment, please rerun this cell to show the HTML representation or trust the notebook. <br />On GitHub, the HTML representation is unable to render, please try loading this page with nbviewer.org.</b></div><div class=\"sk-container\" hidden><div class=\"sk-item\"><div class=\"sk-estimator fitted sk-toggleable\"><input class=\"sk-toggleable__control sk-hidden--visually\" id=\"sk-estimator-id-1\" type=\"checkbox\" checked><label for=\"sk-estimator-id-1\" class=\"sk-toggleable__label fitted sk-toggleable__label-arrow fitted\">&nbsp;&nbsp;DecisionTreeClassifier<a class=\"sk-estimator-doc-link fitted\" rel=\"noreferrer\" target=\"_blank\" href=\"https://scikit-learn.org/1.4/modules/generated/sklearn.tree.DecisionTreeClassifier.html\">?<span>Documentation for DecisionTreeClassifier</span></a><span class=\"sk-estimator-doc-link fitted\">i<span>Fitted</span></span></label><div class=\"sk-toggleable__content fitted\"><pre>DecisionTreeClassifier(criterion=&#x27;entropy&#x27;)</pre></div> </div></div></div></div>"
      ],
      "text/plain": [
       "DecisionTreeClassifier(criterion='entropy')"
      ]
     },
     "execution_count": 20,
     "metadata": {},
     "output_type": "execute_result"
    }
   ],
   "source": [
    "clf = tree.DecisionTreeClassifier(criterion='entropy')\n",
    "clf.fit(X_train, y_train)"
   ]
  },
  {
   "cell_type": "code",
   "execution_count": 21,
   "id": "f1619c23",
   "metadata": {},
   "outputs": [
    {
     "data": {
      "text/plain": [
       "0.9913237915649118"
      ]
     },
     "execution_count": 21,
     "metadata": {},
     "output_type": "execute_result"
    }
   ],
   "source": [
    "clf.score(X_train, y_train)"
   ]
  },
  {
   "cell_type": "code",
   "execution_count": 22,
   "id": "75ab7284",
   "metadata": {},
   "outputs": [
    {
     "data": {
      "text/plain": [
       "0.9722093418652817"
      ]
     },
     "execution_count": 22,
     "metadata": {},
     "output_type": "execute_result"
    }
   ],
   "source": [
    "clf.score(X_test, y_test)"
   ]
  },
  {
   "cell_type": "code",
   "execution_count": 23,
   "id": "5e07be1f",
   "metadata": {},
   "outputs": [
    {
     "data": {
      "text/plain": [
       "44"
      ]
     },
     "execution_count": 23,
     "metadata": {},
     "output_type": "execute_result"
    }
   ],
   "source": [
    "clf.get_depth()"
   ]
  },
  {
   "cell_type": "code",
   "execution_count": 24,
   "id": "4cb19c42",
   "metadata": {},
   "outputs": [
    {
     "data": {
      "text/plain": [
       "3006"
      ]
     },
     "execution_count": 24,
     "metadata": {},
     "output_type": "execute_result"
    }
   ],
   "source": [
    "clf.get_n_leaves()"
   ]
  },
  {
   "cell_type": "code",
   "execution_count": 26,
   "id": "0c145676",
   "metadata": {},
   "outputs": [],
   "source": [
    "# plt.figure(figsize=(15, 12))\n",
    "# tree.plot_tree(clf,\n",
    "#               feature_names=column_names,\n",
    "#               node_ids=True,\n",
    "#               );"
   ]
  },
  {
   "cell_type": "markdown",
   "id": "05f1d8dd",
   "metadata": {},
   "source": [
    "## Train a smaller decision tree\n",
    "\n",
    "The one above probably overfits the data. How well does a smaller one do?"
   ]
  },
  {
   "cell_type": "code",
   "execution_count": 27,
   "id": "4fc47e5b",
   "metadata": {},
   "outputs": [],
   "source": [
    "clf_shallow = tree.DecisionTreeClassifier(criterion='entropy', max_depth=3)"
   ]
  },
  {
   "cell_type": "code",
   "execution_count": 29,
   "id": "a496c389",
   "metadata": {},
   "outputs": [
    {
     "data": {
      "text/html": [
       "<style>#sk-container-id-2 {\n",
       "  /* Definition of color scheme common for light and dark mode */\n",
       "  --sklearn-color-text: black;\n",
       "  --sklearn-color-line: gray;\n",
       "  /* Definition of color scheme for unfitted estimators */\n",
       "  --sklearn-color-unfitted-level-0: #fff5e6;\n",
       "  --sklearn-color-unfitted-level-1: #f6e4d2;\n",
       "  --sklearn-color-unfitted-level-2: #ffe0b3;\n",
       "  --sklearn-color-unfitted-level-3: chocolate;\n",
       "  /* Definition of color scheme for fitted estimators */\n",
       "  --sklearn-color-fitted-level-0: #f0f8ff;\n",
       "  --sklearn-color-fitted-level-1: #d4ebff;\n",
       "  --sklearn-color-fitted-level-2: #b3dbfd;\n",
       "  --sklearn-color-fitted-level-3: cornflowerblue;\n",
       "\n",
       "  /* Specific color for light theme */\n",
       "  --sklearn-color-text-on-default-background: var(--sg-text-color, var(--theme-code-foreground, var(--jp-content-font-color1, black)));\n",
       "  --sklearn-color-background: var(--sg-background-color, var(--theme-background, var(--jp-layout-color0, white)));\n",
       "  --sklearn-color-border-box: var(--sg-text-color, var(--theme-code-foreground, var(--jp-content-font-color1, black)));\n",
       "  --sklearn-color-icon: #696969;\n",
       "\n",
       "  @media (prefers-color-scheme: dark) {\n",
       "    /* Redefinition of color scheme for dark theme */\n",
       "    --sklearn-color-text-on-default-background: var(--sg-text-color, var(--theme-code-foreground, var(--jp-content-font-color1, white)));\n",
       "    --sklearn-color-background: var(--sg-background-color, var(--theme-background, var(--jp-layout-color0, #111)));\n",
       "    --sklearn-color-border-box: var(--sg-text-color, var(--theme-code-foreground, var(--jp-content-font-color1, white)));\n",
       "    --sklearn-color-icon: #878787;\n",
       "  }\n",
       "}\n",
       "\n",
       "#sk-container-id-2 {\n",
       "  color: var(--sklearn-color-text);\n",
       "}\n",
       "\n",
       "#sk-container-id-2 pre {\n",
       "  padding: 0;\n",
       "}\n",
       "\n",
       "#sk-container-id-2 input.sk-hidden--visually {\n",
       "  border: 0;\n",
       "  clip: rect(1px 1px 1px 1px);\n",
       "  clip: rect(1px, 1px, 1px, 1px);\n",
       "  height: 1px;\n",
       "  margin: -1px;\n",
       "  overflow: hidden;\n",
       "  padding: 0;\n",
       "  position: absolute;\n",
       "  width: 1px;\n",
       "}\n",
       "\n",
       "#sk-container-id-2 div.sk-dashed-wrapped {\n",
       "  border: 1px dashed var(--sklearn-color-line);\n",
       "  margin: 0 0.4em 0.5em 0.4em;\n",
       "  box-sizing: border-box;\n",
       "  padding-bottom: 0.4em;\n",
       "  background-color: var(--sklearn-color-background);\n",
       "}\n",
       "\n",
       "#sk-container-id-2 div.sk-container {\n",
       "  /* jupyter's `normalize.less` sets `[hidden] { display: none; }`\n",
       "     but bootstrap.min.css set `[hidden] { display: none !important; }`\n",
       "     so we also need the `!important` here to be able to override the\n",
       "     default hidden behavior on the sphinx rendered scikit-learn.org.\n",
       "     See: https://github.com/scikit-learn/scikit-learn/issues/21755 */\n",
       "  display: inline-block !important;\n",
       "  position: relative;\n",
       "}\n",
       "\n",
       "#sk-container-id-2 div.sk-text-repr-fallback {\n",
       "  display: none;\n",
       "}\n",
       "\n",
       "div.sk-parallel-item,\n",
       "div.sk-serial,\n",
       "div.sk-item {\n",
       "  /* draw centered vertical line to link estimators */\n",
       "  background-image: linear-gradient(var(--sklearn-color-text-on-default-background), var(--sklearn-color-text-on-default-background));\n",
       "  background-size: 2px 100%;\n",
       "  background-repeat: no-repeat;\n",
       "  background-position: center center;\n",
       "}\n",
       "\n",
       "/* Parallel-specific style estimator block */\n",
       "\n",
       "#sk-container-id-2 div.sk-parallel-item::after {\n",
       "  content: \"\";\n",
       "  width: 100%;\n",
       "  border-bottom: 2px solid var(--sklearn-color-text-on-default-background);\n",
       "  flex-grow: 1;\n",
       "}\n",
       "\n",
       "#sk-container-id-2 div.sk-parallel {\n",
       "  display: flex;\n",
       "  align-items: stretch;\n",
       "  justify-content: center;\n",
       "  background-color: var(--sklearn-color-background);\n",
       "  position: relative;\n",
       "}\n",
       "\n",
       "#sk-container-id-2 div.sk-parallel-item {\n",
       "  display: flex;\n",
       "  flex-direction: column;\n",
       "}\n",
       "\n",
       "#sk-container-id-2 div.sk-parallel-item:first-child::after {\n",
       "  align-self: flex-end;\n",
       "  width: 50%;\n",
       "}\n",
       "\n",
       "#sk-container-id-2 div.sk-parallel-item:last-child::after {\n",
       "  align-self: flex-start;\n",
       "  width: 50%;\n",
       "}\n",
       "\n",
       "#sk-container-id-2 div.sk-parallel-item:only-child::after {\n",
       "  width: 0;\n",
       "}\n",
       "\n",
       "/* Serial-specific style estimator block */\n",
       "\n",
       "#sk-container-id-2 div.sk-serial {\n",
       "  display: flex;\n",
       "  flex-direction: column;\n",
       "  align-items: center;\n",
       "  background-color: var(--sklearn-color-background);\n",
       "  padding-right: 1em;\n",
       "  padding-left: 1em;\n",
       "}\n",
       "\n",
       "\n",
       "/* Toggleable style: style used for estimator/Pipeline/ColumnTransformer box that is\n",
       "clickable and can be expanded/collapsed.\n",
       "- Pipeline and ColumnTransformer use this feature and define the default style\n",
       "- Estimators will overwrite some part of the style using the `sk-estimator` class\n",
       "*/\n",
       "\n",
       "/* Pipeline and ColumnTransformer style (default) */\n",
       "\n",
       "#sk-container-id-2 div.sk-toggleable {\n",
       "  /* Default theme specific background. It is overwritten whether we have a\n",
       "  specific estimator or a Pipeline/ColumnTransformer */\n",
       "  background-color: var(--sklearn-color-background);\n",
       "}\n",
       "\n",
       "/* Toggleable label */\n",
       "#sk-container-id-2 label.sk-toggleable__label {\n",
       "  cursor: pointer;\n",
       "  display: block;\n",
       "  width: 100%;\n",
       "  margin-bottom: 0;\n",
       "  padding: 0.5em;\n",
       "  box-sizing: border-box;\n",
       "  text-align: center;\n",
       "}\n",
       "\n",
       "#sk-container-id-2 label.sk-toggleable__label-arrow:before {\n",
       "  /* Arrow on the left of the label */\n",
       "  content: \"▸\";\n",
       "  float: left;\n",
       "  margin-right: 0.25em;\n",
       "  color: var(--sklearn-color-icon);\n",
       "}\n",
       "\n",
       "#sk-container-id-2 label.sk-toggleable__label-arrow:hover:before {\n",
       "  color: var(--sklearn-color-text);\n",
       "}\n",
       "\n",
       "/* Toggleable content - dropdown */\n",
       "\n",
       "#sk-container-id-2 div.sk-toggleable__content {\n",
       "  max-height: 0;\n",
       "  max-width: 0;\n",
       "  overflow: hidden;\n",
       "  text-align: left;\n",
       "  /* unfitted */\n",
       "  background-color: var(--sklearn-color-unfitted-level-0);\n",
       "}\n",
       "\n",
       "#sk-container-id-2 div.sk-toggleable__content.fitted {\n",
       "  /* fitted */\n",
       "  background-color: var(--sklearn-color-fitted-level-0);\n",
       "}\n",
       "\n",
       "#sk-container-id-2 div.sk-toggleable__content pre {\n",
       "  margin: 0.2em;\n",
       "  border-radius: 0.25em;\n",
       "  color: var(--sklearn-color-text);\n",
       "  /* unfitted */\n",
       "  background-color: var(--sklearn-color-unfitted-level-0);\n",
       "}\n",
       "\n",
       "#sk-container-id-2 div.sk-toggleable__content.fitted pre {\n",
       "  /* unfitted */\n",
       "  background-color: var(--sklearn-color-fitted-level-0);\n",
       "}\n",
       "\n",
       "#sk-container-id-2 input.sk-toggleable__control:checked~div.sk-toggleable__content {\n",
       "  /* Expand drop-down */\n",
       "  max-height: 200px;\n",
       "  max-width: 100%;\n",
       "  overflow: auto;\n",
       "}\n",
       "\n",
       "#sk-container-id-2 input.sk-toggleable__control:checked~label.sk-toggleable__label-arrow:before {\n",
       "  content: \"▾\";\n",
       "}\n",
       "\n",
       "/* Pipeline/ColumnTransformer-specific style */\n",
       "\n",
       "#sk-container-id-2 div.sk-label input.sk-toggleable__control:checked~label.sk-toggleable__label {\n",
       "  color: var(--sklearn-color-text);\n",
       "  background-color: var(--sklearn-color-unfitted-level-2);\n",
       "}\n",
       "\n",
       "#sk-container-id-2 div.sk-label.fitted input.sk-toggleable__control:checked~label.sk-toggleable__label {\n",
       "  background-color: var(--sklearn-color-fitted-level-2);\n",
       "}\n",
       "\n",
       "/* Estimator-specific style */\n",
       "\n",
       "/* Colorize estimator box */\n",
       "#sk-container-id-2 div.sk-estimator input.sk-toggleable__control:checked~label.sk-toggleable__label {\n",
       "  /* unfitted */\n",
       "  background-color: var(--sklearn-color-unfitted-level-2);\n",
       "}\n",
       "\n",
       "#sk-container-id-2 div.sk-estimator.fitted input.sk-toggleable__control:checked~label.sk-toggleable__label {\n",
       "  /* fitted */\n",
       "  background-color: var(--sklearn-color-fitted-level-2);\n",
       "}\n",
       "\n",
       "#sk-container-id-2 div.sk-label label.sk-toggleable__label,\n",
       "#sk-container-id-2 div.sk-label label {\n",
       "  /* The background is the default theme color */\n",
       "  color: var(--sklearn-color-text-on-default-background);\n",
       "}\n",
       "\n",
       "/* On hover, darken the color of the background */\n",
       "#sk-container-id-2 div.sk-label:hover label.sk-toggleable__label {\n",
       "  color: var(--sklearn-color-text);\n",
       "  background-color: var(--sklearn-color-unfitted-level-2);\n",
       "}\n",
       "\n",
       "/* Label box, darken color on hover, fitted */\n",
       "#sk-container-id-2 div.sk-label.fitted:hover label.sk-toggleable__label.fitted {\n",
       "  color: var(--sklearn-color-text);\n",
       "  background-color: var(--sklearn-color-fitted-level-2);\n",
       "}\n",
       "\n",
       "/* Estimator label */\n",
       "\n",
       "#sk-container-id-2 div.sk-label label {\n",
       "  font-family: monospace;\n",
       "  font-weight: bold;\n",
       "  display: inline-block;\n",
       "  line-height: 1.2em;\n",
       "}\n",
       "\n",
       "#sk-container-id-2 div.sk-label-container {\n",
       "  text-align: center;\n",
       "}\n",
       "\n",
       "/* Estimator-specific */\n",
       "#sk-container-id-2 div.sk-estimator {\n",
       "  font-family: monospace;\n",
       "  border: 1px dotted var(--sklearn-color-border-box);\n",
       "  border-radius: 0.25em;\n",
       "  box-sizing: border-box;\n",
       "  margin-bottom: 0.5em;\n",
       "  /* unfitted */\n",
       "  background-color: var(--sklearn-color-unfitted-level-0);\n",
       "}\n",
       "\n",
       "#sk-container-id-2 div.sk-estimator.fitted {\n",
       "  /* fitted */\n",
       "  background-color: var(--sklearn-color-fitted-level-0);\n",
       "}\n",
       "\n",
       "/* on hover */\n",
       "#sk-container-id-2 div.sk-estimator:hover {\n",
       "  /* unfitted */\n",
       "  background-color: var(--sklearn-color-unfitted-level-2);\n",
       "}\n",
       "\n",
       "#sk-container-id-2 div.sk-estimator.fitted:hover {\n",
       "  /* fitted */\n",
       "  background-color: var(--sklearn-color-fitted-level-2);\n",
       "}\n",
       "\n",
       "/* Specification for estimator info (e.g. \"i\" and \"?\") */\n",
       "\n",
       "/* Common style for \"i\" and \"?\" */\n",
       "\n",
       ".sk-estimator-doc-link,\n",
       "a:link.sk-estimator-doc-link,\n",
       "a:visited.sk-estimator-doc-link {\n",
       "  float: right;\n",
       "  font-size: smaller;\n",
       "  line-height: 1em;\n",
       "  font-family: monospace;\n",
       "  background-color: var(--sklearn-color-background);\n",
       "  border-radius: 1em;\n",
       "  height: 1em;\n",
       "  width: 1em;\n",
       "  text-decoration: none !important;\n",
       "  margin-left: 1ex;\n",
       "  /* unfitted */\n",
       "  border: var(--sklearn-color-unfitted-level-1) 1pt solid;\n",
       "  color: var(--sklearn-color-unfitted-level-1);\n",
       "}\n",
       "\n",
       ".sk-estimator-doc-link.fitted,\n",
       "a:link.sk-estimator-doc-link.fitted,\n",
       "a:visited.sk-estimator-doc-link.fitted {\n",
       "  /* fitted */\n",
       "  border: var(--sklearn-color-fitted-level-1) 1pt solid;\n",
       "  color: var(--sklearn-color-fitted-level-1);\n",
       "}\n",
       "\n",
       "/* On hover */\n",
       "div.sk-estimator:hover .sk-estimator-doc-link:hover,\n",
       ".sk-estimator-doc-link:hover,\n",
       "div.sk-label-container:hover .sk-estimator-doc-link:hover,\n",
       ".sk-estimator-doc-link:hover {\n",
       "  /* unfitted */\n",
       "  background-color: var(--sklearn-color-unfitted-level-3);\n",
       "  color: var(--sklearn-color-background);\n",
       "  text-decoration: none;\n",
       "}\n",
       "\n",
       "div.sk-estimator.fitted:hover .sk-estimator-doc-link.fitted:hover,\n",
       ".sk-estimator-doc-link.fitted:hover,\n",
       "div.sk-label-container:hover .sk-estimator-doc-link.fitted:hover,\n",
       ".sk-estimator-doc-link.fitted:hover {\n",
       "  /* fitted */\n",
       "  background-color: var(--sklearn-color-fitted-level-3);\n",
       "  color: var(--sklearn-color-background);\n",
       "  text-decoration: none;\n",
       "}\n",
       "\n",
       "/* Span, style for the box shown on hovering the info icon */\n",
       ".sk-estimator-doc-link span {\n",
       "  display: none;\n",
       "  z-index: 9999;\n",
       "  position: relative;\n",
       "  font-weight: normal;\n",
       "  right: .2ex;\n",
       "  padding: .5ex;\n",
       "  margin: .5ex;\n",
       "  width: min-content;\n",
       "  min-width: 20ex;\n",
       "  max-width: 50ex;\n",
       "  color: var(--sklearn-color-text);\n",
       "  box-shadow: 2pt 2pt 4pt #999;\n",
       "  /* unfitted */\n",
       "  background: var(--sklearn-color-unfitted-level-0);\n",
       "  border: .5pt solid var(--sklearn-color-unfitted-level-3);\n",
       "}\n",
       "\n",
       ".sk-estimator-doc-link.fitted span {\n",
       "  /* fitted */\n",
       "  background: var(--sklearn-color-fitted-level-0);\n",
       "  border: var(--sklearn-color-fitted-level-3);\n",
       "}\n",
       "\n",
       ".sk-estimator-doc-link:hover span {\n",
       "  display: block;\n",
       "}\n",
       "\n",
       "/* \"?\"-specific style due to the `<a>` HTML tag */\n",
       "\n",
       "#sk-container-id-2 a.estimator_doc_link {\n",
       "  float: right;\n",
       "  font-size: 1rem;\n",
       "  line-height: 1em;\n",
       "  font-family: monospace;\n",
       "  background-color: var(--sklearn-color-background);\n",
       "  border-radius: 1rem;\n",
       "  height: 1rem;\n",
       "  width: 1rem;\n",
       "  text-decoration: none;\n",
       "  /* unfitted */\n",
       "  color: var(--sklearn-color-unfitted-level-1);\n",
       "  border: var(--sklearn-color-unfitted-level-1) 1pt solid;\n",
       "}\n",
       "\n",
       "#sk-container-id-2 a.estimator_doc_link.fitted {\n",
       "  /* fitted */\n",
       "  border: var(--sklearn-color-fitted-level-1) 1pt solid;\n",
       "  color: var(--sklearn-color-fitted-level-1);\n",
       "}\n",
       "\n",
       "/* On hover */\n",
       "#sk-container-id-2 a.estimator_doc_link:hover {\n",
       "  /* unfitted */\n",
       "  background-color: var(--sklearn-color-unfitted-level-3);\n",
       "  color: var(--sklearn-color-background);\n",
       "  text-decoration: none;\n",
       "}\n",
       "\n",
       "#sk-container-id-2 a.estimator_doc_link.fitted:hover {\n",
       "  /* fitted */\n",
       "  background-color: var(--sklearn-color-fitted-level-3);\n",
       "}\n",
       "</style><div id=\"sk-container-id-2\" class=\"sk-top-container\"><div class=\"sk-text-repr-fallback\"><pre>DecisionTreeClassifier(criterion=&#x27;entropy&#x27;, max_depth=3)</pre><b>In a Jupyter environment, please rerun this cell to show the HTML representation or trust the notebook. <br />On GitHub, the HTML representation is unable to render, please try loading this page with nbviewer.org.</b></div><div class=\"sk-container\" hidden><div class=\"sk-item\"><div class=\"sk-estimator fitted sk-toggleable\"><input class=\"sk-toggleable__control sk-hidden--visually\" id=\"sk-estimator-id-2\" type=\"checkbox\" checked><label for=\"sk-estimator-id-2\" class=\"sk-toggleable__label fitted sk-toggleable__label-arrow fitted\">&nbsp;&nbsp;DecisionTreeClassifier<a class=\"sk-estimator-doc-link fitted\" rel=\"noreferrer\" target=\"_blank\" href=\"https://scikit-learn.org/1.4/modules/generated/sklearn.tree.DecisionTreeClassifier.html\">?<span>Documentation for DecisionTreeClassifier</span></a><span class=\"sk-estimator-doc-link fitted\">i<span>Fitted</span></span></label><div class=\"sk-toggleable__content fitted\"><pre>DecisionTreeClassifier(criterion=&#x27;entropy&#x27;, max_depth=3)</pre></div> </div></div></div></div>"
      ],
      "text/plain": [
       "DecisionTreeClassifier(criterion='entropy', max_depth=3)"
      ]
     },
     "execution_count": 29,
     "metadata": {},
     "output_type": "execute_result"
    }
   ],
   "source": [
    "clf_shallow.fit(X_train, y_train)"
   ]
  },
  {
   "cell_type": "code",
   "execution_count": 30,
   "id": "0de946a8",
   "metadata": {},
   "outputs": [
    {
     "data": {
      "text/plain": [
       "0.9576699949509001"
      ]
     },
     "execution_count": 30,
     "metadata": {},
     "output_type": "execute_result"
    }
   ],
   "source": [
    "clf_shallow.score(X_train, y_train)"
   ]
  },
  {
   "cell_type": "code",
   "execution_count": 31,
   "id": "8e519a98",
   "metadata": {},
   "outputs": [
    {
     "data": {
      "text/plain": [
       "0.9552690964171999"
      ]
     },
     "execution_count": 31,
     "metadata": {},
     "output_type": "execute_result"
    }
   ],
   "source": [
    "clf_shallow.score(X_test, y_test)"
   ]
  },
  {
   "cell_type": "code",
   "execution_count": 32,
   "id": "e43dfe32",
   "metadata": {},
   "outputs": [
    {
     "data": {
      "text/plain": [
       "3"
      ]
     },
     "execution_count": 32,
     "metadata": {},
     "output_type": "execute_result"
    }
   ],
   "source": [
    "clf_shallow.get_depth()"
   ]
  },
  {
   "cell_type": "code",
   "execution_count": 33,
   "id": "bec4bc87",
   "metadata": {},
   "outputs": [
    {
     "data": {
      "text/plain": [
       "8"
      ]
     },
     "execution_count": 33,
     "metadata": {},
     "output_type": "execute_result"
    }
   ],
   "source": [
    "clf_shallow.get_n_leaves()"
   ]
  },
  {
   "cell_type": "code",
   "execution_count": 34,
   "id": "6138770e",
   "metadata": {},
   "outputs": [
    {
     "data": {
      "image/png": "[encoded data removed]",
      "text/plain": [
       "<Figure size 1500x1200 with 1 Axes>"
      ]
     },
     "metadata": {},
     "output_type": "display_data"
    }
   ],
   "source": [
    "plt.figure(figsize=(15, 12))\n",
    "tree.plot_tree(clf_shallow,\n",
    "              feature_names=column_names,\n",
    "              node_ids=True,\n",
    "              );"
   ]
  },
  {
   "cell_type": "code",
   "execution_count": 35,
   "id": "f0f274da-fd7e-4507-aae3-266ec3ebab6b",
   "metadata": {},
   "outputs": [],
   "source": [
    "y_pred = clf.predict(X_test)"
   ]
  },
  {
   "cell_type": "code",
   "execution_count": 36,
   "id": "ce254d3a",
   "metadata": {},
   "outputs": [
    {
     "name": "stdout",
     "output_type": "stream",
     "text": [
      "              precision    recall  f1-score   support\n",
      "\n",
      "           0       0.98      0.98      0.98     20081\n",
      "           1       0.96      0.97      0.96     12268\n",
      "\n",
      "    accuracy                           0.97     32349\n",
      "   macro avg       0.97      0.97      0.97     32349\n",
      "weighted avg       0.97      0.97      0.97     32349\n",
      "\n"
     ]
    }
   ],
   "source": [
    "print(metrics.classification_report(y_pred, y_test))"
   ]
  },
  {
   "cell_type": "code",
   "execution_count": 37,
   "id": "90ac935e-43be-482e-b09e-cdd18dc9bef3",
   "metadata": {},
   "outputs": [],
   "source": [
    "y_pred = clf_shallow.predict(X_test)"
   ]
  },
  {
   "cell_type": "code",
   "execution_count": 38,
   "id": "bcbe5796-c4a2-4bf9-bebd-ec3ccbedddbd",
   "metadata": {},
   "outputs": [
    {
     "name": "stdout",
     "output_type": "stream",
     "text": [
      "              precision    recall  f1-score   support\n",
      "\n",
      "           0       0.97      0.95      0.96     20415\n",
      "           1       0.92      0.96      0.94     11934\n",
      "\n",
      "    accuracy                           0.96     32349\n",
      "   macro avg       0.95      0.96      0.95     32349\n",
      "weighted avg       0.96      0.96      0.96     32349\n",
      "\n"
     ]
    }
   ],
   "source": [
    "print(metrics.classification_report(y_pred, y_test))"
   ]
  },
  {
   "cell_type": "code",
   "execution_count": null,
   "id": "bac606a9-4916-4fb8-9114-21cbdb4231d7",
   "metadata": {},
   "outputs": [],
   "source": []
  }
 ],
 "metadata": {
  "kernelspec": {
   "display_name": "Python 3 (ipykernel)",
   "language": "python",
   "name": "python3"
  },
  "language_info": {
   "codemirror_mode": {
    "name": "ipython",
    "version": 3
   },
   "file_extension": ".py",
   "mimetype": "text/x-python",
   "name": "python",
   "nbconvert_exporter": "python",
   "pygments_lexer": "ipython3",
   "version": "3.11.7"
  }
 },
 "nbformat": 4,
 "nbformat_minor": 5
}
