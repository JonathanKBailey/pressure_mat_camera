{
 "cells": [
  {
   "cell_type": "code",
   "execution_count": 13,
   "id": "86173c18-8c2d-4d32-bb59-8b3734e1470a",
   "metadata": {},
   "outputs": [],
   "source": [
    "import os\n",
    "import datetime\n",
    "import shutil"
   ]
  },
  {
   "cell_type": "code",
   "execution_count": 14,
   "id": "8e5b3426-ba96-4622-b249-54958c2daefa",
   "metadata": {},
   "outputs": [],
   "source": [
    "camera_path = os.path.join('data', 'camera_data')"
   ]
  },
  {
   "cell_type": "code",
   "execution_count": 15,
   "id": "45ff3589-84e6-4fd3-808b-df90b42019cc",
   "metadata": {
    "scrolled": true
   },
   "outputs": [],
   "source": [
    "for root, dirs, files in os.walk(camera_path):\n",
    "    if files:\n",
    "        for f in files:\n",
    "            if '1D' not in f:\n",
    "                fp = os.path.join(root, f)\n",
    "                tm = os.path.getmtime(fp)\n",
    "                dtts = datetime.datetime.fromtimestamp(tm)\n",
    "                ts = dtts.strftime('%Y-%m-%dT%H_%M_%S.%f%z')\n",
    "                to_name = f'frame_{ts}.csv'\n",
    "                tp = os.path.join(root, to_name)\n",
    "                if not os.path.exists(tp):\n",
    "                    shutil.copy(fp, tp)\n",
    "                    shutil.copystat(fp, tp)\n",
    "                    print(root, f, '->', tp)"
   ]
  },
  {
   "cell_type": "code",
   "execution_count": 27,
   "id": "a8037d28-dc32-4817-8301-48cb39da4731",
   "metadata": {
    "scrolled": true
   },
   "outputs": [],
   "source": [
    "for root, dirs, files in os.walk(camera_path):\n",
    "    if files:\n",
    "        for f in files:\n",
    "            if 'Cont' not in f:\n",
    "                fp = os.path.join(root, f)\n",
    "                os.remove(fp)\n",
    "            "
   ]
  },
  {
   "cell_type": "code",
   "execution_count": null,
   "id": "5c630a45-404d-4c7a-a3ca-55571b46ffd2",
   "metadata": {},
   "outputs": [],
   "source": []
  },
  {
   "cell_type": "code",
   "execution_count": null,
   "id": "52c629e4-8867-4077-9de1-fd6ebf213468",
   "metadata": {},
   "outputs": [],
   "source": []
  },
  {
   "cell_type": "code",
   "execution_count": null,
   "id": "06bb4e49-f699-4d5b-91e8-730c79cbd3fe",
   "metadata": {},
   "outputs": [],
   "source": []
  }
 ],
 "metadata": {
  "kernelspec": {
   "display_name": "Python 3 (ipykernel)",
   "language": "python",
   "name": "python3"
  },
  "language_info": {
   "codemirror_mode": {
    "name": "ipython",
    "version": 3
   },
   "file_extension": ".py",
   "mimetype": "text/x-python",
   "name": "python",
   "nbconvert_exporter": "python",
   "pygments_lexer": "ipython3",
   "version": "3.11.7"
  }
 },
 "nbformat": 4,
 "nbformat_minor": 5
}
