{
 "cells": [
  {
   "cell_type": "code",
   "execution_count": 19,
   "id": "86173c18-8c2d-4d32-bb59-8b3734e1470a",
   "metadata": {},
   "outputs": [],
   "source": [
    "import os\n",
    "import datetime\n",
    "import shutil"
   ]
  },
  {
   "cell_type": "code",
   "execution_count": 20,
   "id": "8e5b3426-ba96-4622-b249-54958c2daefa",
   "metadata": {},
   "outputs": [],
   "source": [
    "camera_path = os.path.join('data', 'camera_data')"
   ]
  },
  {
   "cell_type": "code",
   "execution_count": 22,
   "id": "45ff3589-84e6-4fd3-808b-df90b42019cc",
   "metadata": {
    "scrolled": true
   },
   "outputs": [
    {
     "name": "stdout",
     "output_type": "stream",
     "text": [
      "data\\camera_data\\tests\\subject1\\adl004 frame_ContDrc_0.csv -> data\\camera_data\\tests\\subject1\\adl004\\frame_2024-05-15T14_52_44.574399.csv\n",
      "data\\camera_data\\tests\\subject1\\adl004 frame_ContDrc_1.csv -> data\\camera_data\\tests\\subject1\\adl004\\frame_2024-05-15T14_52_44.719253.csv\n",
      "data\\camera_data\\tests\\subject1\\adl004 frame_ContDrc_10.csv -> data\\camera_data\\tests\\subject1\\adl004\\frame_2024-05-15T14_52_45.976716.csv\n",
      "data\\camera_data\\tests\\subject1\\adl004 frame_ContDrc_11.csv -> data\\camera_data\\tests\\subject1\\adl004\\frame_2024-05-15T14_52_46.130231.csv\n",
      "data\\camera_data\\tests\\subject1\\adl004 frame_ContDrc_12.csv -> data\\camera_data\\tests\\subject1\\adl004\\frame_2024-05-15T14_52_46.261402.csv\n",
      "data\\camera_data\\tests\\subject1\\adl004 frame_ContDrc_13.csv -> data\\camera_data\\tests\\subject1\\adl004\\frame_2024-05-15T14_52_46.424464.csv\n",
      "data\\camera_data\\tests\\subject1\\adl004 frame_ContDrc_14.csv -> data\\camera_data\\tests\\subject1\\adl004\\frame_2024-05-15T14_52_27.746689.csv\n",
      "data\\camera_data\\tests\\subject1\\adl004 frame_ContDrc_15.csv -> data\\camera_data\\tests\\subject1\\adl004\\frame_2024-05-15T14_52_27.911853.csv\n",
      "data\\camera_data\\tests\\subject1\\adl004 frame_ContDrc_16.csv -> data\\camera_data\\tests\\subject1\\adl004\\frame_2024-05-15T14_52_28.031830.csv\n",
      "data\\camera_data\\tests\\subject1\\adl004 frame_ContDrc_17.csv -> data\\camera_data\\tests\\subject1\\adl004\\frame_2024-05-15T14_52_28.183257.csv\n",
      "data\\camera_data\\tests\\subject1\\adl004 frame_ContDrc_18.csv -> data\\camera_data\\tests\\subject1\\adl004\\frame_2024-05-15T14_52_28.322957.csv\n",
      "data\\camera_data\\tests\\subject1\\adl004 frame_ContDrc_19.csv -> data\\camera_data\\tests\\subject1\\adl004\\frame_2024-05-15T14_52_28.453291.csv\n",
      "data\\camera_data\\tests\\subject1\\adl004 frame_ContDrc_2.csv -> data\\camera_data\\tests\\subject1\\adl004\\frame_2024-05-15T14_52_44.862619.csv\n",
      "data\\camera_data\\tests\\subject1\\adl004 frame_ContDrc_20.csv -> data\\camera_data\\tests\\subject1\\adl004\\frame_2024-05-15T14_52_28.589117.csv\n",
      "data\\camera_data\\tests\\subject1\\adl004 frame_ContDrc_21.csv -> data\\camera_data\\tests\\subject1\\adl004\\frame_2024-05-15T14_52_28.754468.csv\n",
      "data\\camera_data\\tests\\subject1\\adl004 frame_ContDrc_22.csv -> data\\camera_data\\tests\\subject1\\adl004\\frame_2024-05-15T14_52_28.891594.csv\n",
      "data\\camera_data\\tests\\subject1\\adl004 frame_ContDrc_23.csv -> data\\camera_data\\tests\\subject1\\adl004\\frame_2024-05-15T14_52_29.025351.csv\n",
      "data\\camera_data\\tests\\subject1\\adl004 frame_ContDrc_24.csv -> data\\camera_data\\tests\\subject1\\adl004\\frame_2024-05-15T14_52_29.193721.csv\n",
      "data\\camera_data\\tests\\subject1\\adl004 frame_ContDrc_25.csv -> data\\camera_data\\tests\\subject1\\adl004\\frame_2024-05-15T14_52_29.313369.csv\n",
      "data\\camera_data\\tests\\subject1\\adl004 frame_ContDrc_26.csv -> data\\camera_data\\tests\\subject1\\adl004\\frame_2024-05-15T14_52_29.445677.csv\n",
      "data\\camera_data\\tests\\subject1\\adl004 frame_ContDrc_27.csv -> data\\camera_data\\tests\\subject1\\adl004\\frame_2024-05-15T14_52_29.602797.csv\n",
      "data\\camera_data\\tests\\subject1\\adl004 frame_ContDrc_28.csv -> data\\camera_data\\tests\\subject1\\adl004\\frame_2024-05-15T14_52_29.732005.csv\n",
      "data\\camera_data\\tests\\subject1\\adl004 frame_ContDrc_29.csv -> data\\camera_data\\tests\\subject1\\adl004\\frame_2024-05-15T14_52_29.876011.csv\n",
      "data\\camera_data\\tests\\subject1\\adl004 frame_ContDrc_3.csv -> data\\camera_data\\tests\\subject1\\adl004\\frame_2024-05-15T14_52_44.973397.csv\n",
      "data\\camera_data\\tests\\subject1\\adl004 frame_ContDrc_30.csv -> data\\camera_data\\tests\\subject1\\adl004\\frame_2024-05-15T14_52_30.017875.csv\n",
      "data\\camera_data\\tests\\subject1\\adl004 frame_ContDrc_31.csv -> data\\camera_data\\tests\\subject1\\adl004\\frame_2024-05-15T14_52_30.155620.csv\n",
      "data\\camera_data\\tests\\subject1\\adl004 frame_ContDrc_32.csv -> data\\camera_data\\tests\\subject1\\adl004\\frame_2024-05-15T14_52_30.285028.csv\n",
      "data\\camera_data\\tests\\subject1\\adl004 frame_ContDrc_33.csv -> data\\camera_data\\tests\\subject1\\adl004\\frame_2024-05-15T14_52_30.440949.csv\n",
      "data\\camera_data\\tests\\subject1\\adl004 frame_ContDrc_34.csv -> data\\camera_data\\tests\\subject1\\adl004\\frame_2024-05-15T14_52_30.583909.csv\n",
      "data\\camera_data\\tests\\subject1\\adl004 frame_ContDrc_35.csv -> data\\camera_data\\tests\\subject1\\adl004\\frame_2024-05-15T14_52_30.713110.csv\n",
      "data\\camera_data\\tests\\subject1\\adl004 frame_ContDrc_36.csv -> data\\camera_data\\tests\\subject1\\adl004\\frame_2024-05-15T14_52_30.891173.csv\n",
      "data\\camera_data\\tests\\subject1\\adl004 frame_ContDrc_37.csv -> data\\camera_data\\tests\\subject1\\adl004\\frame_2024-05-15T14_52_31.002269.csv\n",
      "data\\camera_data\\tests\\subject1\\adl004 frame_ContDrc_38.csv -> data\\camera_data\\tests\\subject1\\adl004\\frame_2024-05-15T14_52_31.137923.csv\n",
      "data\\camera_data\\tests\\subject1\\adl004 frame_ContDrc_39.csv -> data\\camera_data\\tests\\subject1\\adl004\\frame_2024-05-15T14_52_31.278861.csv\n",
      "data\\camera_data\\tests\\subject1\\adl004 frame_ContDrc_4.csv -> data\\camera_data\\tests\\subject1\\adl004\\frame_2024-05-15T14_52_45.135292.csv\n",
      "data\\camera_data\\tests\\subject1\\adl004 frame_ContDrc_40.csv -> data\\camera_data\\tests\\subject1\\adl004\\frame_2024-05-15T14_52_31.438740.csv\n",
      "data\\camera_data\\tests\\subject1\\adl004 frame_ContDrc_41.csv -> data\\camera_data\\tests\\subject1\\adl004\\frame_2024-05-15T14_52_31.568851.csv\n",
      "data\\camera_data\\tests\\subject1\\adl004 frame_ContDrc_42.csv -> data\\camera_data\\tests\\subject1\\adl004\\frame_2024-05-15T14_52_31.731744.csv\n",
      "data\\camera_data\\tests\\subject1\\adl004 frame_ContDrc_43.csv -> data\\camera_data\\tests\\subject1\\adl004\\frame_2024-05-15T14_52_31.835584.csv\n",
      "data\\camera_data\\tests\\subject1\\adl004 frame_ContDrc_44.csv -> data\\camera_data\\tests\\subject1\\adl004\\frame_2024-05-15T14_52_31.997973.csv\n",
      "data\\camera_data\\tests\\subject1\\adl004 frame_ContDrc_45.csv -> data\\camera_data\\tests\\subject1\\adl004\\frame_2024-05-15T14_52_32.130013.csv\n",
      "data\\camera_data\\tests\\subject1\\adl004 frame_ContDrc_46.csv -> data\\camera_data\\tests\\subject1\\adl004\\frame_2024-05-15T14_52_32.265964.csv\n",
      "data\\camera_data\\tests\\subject1\\adl004 frame_ContDrc_47.csv -> data\\camera_data\\tests\\subject1\\adl004\\frame_2024-05-15T14_52_32.421763.csv\n",
      "data\\camera_data\\tests\\subject1\\adl004 frame_ContDrc_48.csv -> data\\camera_data\\tests\\subject1\\adl004\\frame_2024-05-15T14_52_32.571482.csv\n",
      "data\\camera_data\\tests\\subject1\\adl004 frame_ContDrc_49.csv -> data\\camera_data\\tests\\subject1\\adl004\\frame_2024-05-15T14_52_32.700275.csv\n",
      "data\\camera_data\\tests\\subject1\\adl004 frame_ContDrc_5.csv -> data\\camera_data\\tests\\subject1\\adl004\\frame_2024-05-15T14_52_45.277102.csv\n",
      "data\\camera_data\\tests\\subject1\\adl004 frame_ContDrc_50.csv -> data\\camera_data\\tests\\subject1\\adl004\\frame_2024-05-15T14_52_32.847292.csv\n",
      "data\\camera_data\\tests\\subject1\\adl004 frame_ContDrc_51.csv -> data\\camera_data\\tests\\subject1\\adl004\\frame_2024-05-15T14_52_33.003486.csv\n",
      "data\\camera_data\\tests\\subject1\\adl004 frame_ContDrc_52.csv -> data\\camera_data\\tests\\subject1\\adl004\\frame_2024-05-15T14_52_33.121532.csv\n",
      "data\\camera_data\\tests\\subject1\\adl004 frame_ContDrc_53.csv -> data\\camera_data\\tests\\subject1\\adl004\\frame_2024-05-15T14_52_33.245835.csv\n",
      "data\\camera_data\\tests\\subject1\\adl004 frame_ContDrc_54.csv -> data\\camera_data\\tests\\subject1\\adl004\\frame_2024-05-15T14_52_33.405186.csv\n",
      "data\\camera_data\\tests\\subject1\\adl004 frame_ContDrc_55.csv -> data\\camera_data\\tests\\subject1\\adl004\\frame_2024-05-15T14_52_33.570362.csv\n",
      "data\\camera_data\\tests\\subject1\\adl004 frame_ContDrc_56.csv -> data\\camera_data\\tests\\subject1\\adl004\\frame_2024-05-15T14_52_33.703013.csv\n",
      "data\\camera_data\\tests\\subject1\\adl004 frame_ContDrc_57.csv -> data\\camera_data\\tests\\subject1\\adl004\\frame_2024-05-15T14_52_33.849111.csv\n",
      "data\\camera_data\\tests\\subject1\\adl004 frame_ContDrc_58.csv -> data\\camera_data\\tests\\subject1\\adl004\\frame_2024-05-15T14_52_33.978040.csv\n",
      "data\\camera_data\\tests\\subject1\\adl004 frame_ContDrc_59.csv -> data\\camera_data\\tests\\subject1\\adl004\\frame_2024-05-15T14_52_34.122580.csv\n",
      "data\\camera_data\\tests\\subject1\\adl004 frame_ContDrc_6.csv -> data\\camera_data\\tests\\subject1\\adl004\\frame_2024-05-15T14_52_45.411618.csv\n",
      "data\\camera_data\\tests\\subject1\\adl004 frame_ContDrc_60.csv -> data\\camera_data\\tests\\subject1\\adl004\\frame_2024-05-15T14_52_34.255315.csv\n",
      "data\\camera_data\\tests\\subject1\\adl004 frame_ContDrc_61.csv -> data\\camera_data\\tests\\subject1\\adl004\\frame_2024-05-15T14_52_34.400552.csv\n",
      "data\\camera_data\\tests\\subject1\\adl004 frame_ContDrc_62.csv -> data\\camera_data\\tests\\subject1\\adl004\\frame_2024-05-15T14_52_34.534985.csv\n",
      "data\\camera_data\\tests\\subject1\\adl004 frame_ContDrc_63.csv -> data\\camera_data\\tests\\subject1\\adl004\\frame_2024-05-15T14_52_34.697293.csv\n",
      "data\\camera_data\\tests\\subject1\\adl004 frame_ContDrc_64.csv -> data\\camera_data\\tests\\subject1\\adl004\\frame_2024-05-15T14_52_34.814958.csv\n",
      "data\\camera_data\\tests\\subject1\\adl004 frame_ContDrc_65.csv -> data\\camera_data\\tests\\subject1\\adl004\\frame_2024-05-15T14_52_34.973434.csv\n",
      "data\\camera_data\\tests\\subject1\\adl004 frame_ContDrc_66.csv -> data\\camera_data\\tests\\subject1\\adl004\\frame_2024-05-15T14_52_35.094818.csv\n",
      "data\\camera_data\\tests\\subject1\\adl004 frame_ContDrc_67.csv -> data\\camera_data\\tests\\subject1\\adl004\\frame_2024-05-15T14_52_35.226320.csv\n",
      "data\\camera_data\\tests\\subject1\\adl004 frame_ContDrc_68.csv -> data\\camera_data\\tests\\subject1\\adl004\\frame_2024-05-15T14_52_35.372678.csv\n",
      "data\\camera_data\\tests\\subject1\\adl004 frame_ContDrc_69.csv -> data\\camera_data\\tests\\subject1\\adl004\\frame_2024-05-15T14_52_35.522350.csv\n",
      "data\\camera_data\\tests\\subject1\\adl004 frame_ContDrc_7.csv -> data\\camera_data\\tests\\subject1\\adl004\\frame_2024-05-15T14_52_45.570133.csv\n",
      "data\\camera_data\\tests\\subject1\\adl004 frame_ContDrc_70.csv -> data\\camera_data\\tests\\subject1\\adl004\\frame_2024-05-15T14_52_35.652533.csv\n",
      "data\\camera_data\\tests\\subject1\\adl004 frame_ContDrc_71.csv -> data\\camera_data\\tests\\subject1\\adl004\\frame_2024-05-15T14_52_35.794792.csv\n",
      "data\\camera_data\\tests\\subject1\\adl004 frame_ContDrc_72.csv -> data\\camera_data\\tests\\subject1\\adl004\\frame_2024-05-15T14_52_35.955388.csv\n",
      "data\\camera_data\\tests\\subject1\\adl004 frame_ContDrc_73.csv -> data\\camera_data\\tests\\subject1\\adl004\\frame_2024-05-15T14_52_36.058881.csv\n",
      "data\\camera_data\\tests\\subject1\\adl004 frame_ContDrc_74.csv -> data\\camera_data\\tests\\subject1\\adl004\\frame_2024-05-15T14_52_36.219924.csv\n",
      "data\\camera_data\\tests\\subject1\\adl004 frame_ContDrc_75.csv -> data\\camera_data\\tests\\subject1\\adl004\\frame_2024-05-15T14_52_36.365804.csv\n",
      "data\\camera_data\\tests\\subject1\\adl004 frame_ContDrc_76.csv -> data\\camera_data\\tests\\subject1\\adl004\\frame_2024-05-15T14_52_36.498097.csv\n",
      "data\\camera_data\\tests\\subject1\\adl004 frame_ContDrc_77.csv -> data\\camera_data\\tests\\subject1\\adl004\\frame_2024-05-15T14_52_36.631695.csv\n",
      "data\\camera_data\\tests\\subject1\\adl004 frame_ContDrc_78.csv -> data\\camera_data\\tests\\subject1\\adl004\\frame_2024-05-15T14_52_36.816826.csv\n",
      "data\\camera_data\\tests\\subject1\\adl004 frame_ContDrc_79.csv -> data\\camera_data\\tests\\subject1\\adl004\\frame_2024-05-15T14_52_36.943037.csv\n",
      "data\\camera_data\\tests\\subject1\\adl004 frame_ContDrc_8.csv -> data\\camera_data\\tests\\subject1\\adl004\\frame_2024-05-15T14_52_45.712004.csv\n",
      "data\\camera_data\\tests\\subject1\\adl004 frame_ContDrc_80.csv -> data\\camera_data\\tests\\subject1\\adl004\\frame_2024-05-15T14_52_37.077287.csv\n",
      "data\\camera_data\\tests\\subject1\\adl004 frame_ContDrc_81.csv -> data\\camera_data\\tests\\subject1\\adl004\\frame_2024-05-15T14_52_44.119709.csv\n",
      "data\\camera_data\\tests\\subject1\\adl004 frame_ContDrc_9.csv -> data\\camera_data\\tests\\subject1\\adl004\\frame_2024-05-15T14_52_45.847822.csv\n"
     ]
    }
   ],
   "source": [
    "for root, dirs, files in os.walk(camera_path):\n",
    "    if files:\n",
    "        for f in files:\n",
    "            if '1D' not in f:\n",
    "                fp = os.path.join(root, f)\n",
    "                tm = os.path.getmtime(fp)\n",
    "                dtts = datetime.datetime.fromtimestamp(tm)\n",
    "                ts = dtts.strftime('%Y-%m-%dT%H_%M_%S.%f%z')\n",
    "                to_name = f'frame_{ts}.csv'\n",
    "                tp = os.path.join(root, to_name)\n",
    "                if not os.path.exists(tp):\n",
    "                    shutil.copy(fp, tp)\n",
    "                    shutil.copystat(fp, tp)\n",
    "                    print(root, f, '->', tp)"
   ]
  },
  {
   "cell_type": "code",
   "execution_count": 13,
   "id": "a8037d28-dc32-4817-8301-48cb39da4731",
   "metadata": {
    "scrolled": true
   },
   "outputs": [],
   "source": [
    "for root, dirs, files in os.walk(camera_path):\n",
    "    if files:\n",
    "        for f in files:\n",
    "            if 'Cont' not in f:\n",
    "                fp = os.path.join(root, f)\n",
    "                os.remove(fp)"
   ]
  },
  {
   "cell_type": "code",
   "execution_count": null,
   "id": "5c630a45-404d-4c7a-a3ca-55571b46ffd2",
   "metadata": {},
   "outputs": [],
   "source": []
  }
 ],
 "metadata": {
  "kernelspec": {
   "display_name": "Python 3 (ipykernel)",
   "language": "python",
   "name": "python3"
  },
  "language_info": {
   "codemirror_mode": {
    "name": "ipython",
    "version": 3
   },
   "file_extension": ".py",
   "mimetype": "text/x-python",
   "name": "python",
   "nbconvert_exporter": "python",
   "pygments_lexer": "ipython3",
   "version": "3.11.7"
  }
 },
 "nbformat": 4,
 "nbformat_minor": 5
}
